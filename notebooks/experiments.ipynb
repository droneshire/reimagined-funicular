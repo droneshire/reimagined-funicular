{
 "cells": [
  {
   "cell_type": "code",
   "execution_count": 8,
   "metadata": {},
   "outputs": [],
   "source": [
    "import os\n",
    "import sys\n",
    "\n",
    "import dotenv\n",
    "import pandas as pd\n",
    "from openai import OpenAI\n",
    "\n",
    "dotenv.load_dotenv()\n",
    "\n",
    "GOOGLE_API_KEY = os.getenv(\"GOOGLE_PLACES_API_KEY\")\n",
    "OPEN_AI_API_KEY = os.getenv(\"OPEN_AI_API_KEY\")\n",
    "\n",
    "CURRENT_DIR = %pwd\n",
    "ROOT_DIR = os.path.dirname(CURRENT_DIR)\n",
    "SRC_DIR = os.path.join(ROOT_DIR, \"src\")\n",
    "\n",
    "sys.path.append(SRC_DIR)"
   ]
  },
  {
   "cell_type": "code",
   "execution_count": 9,
   "metadata": {},
   "outputs": [
    {
     "ename": "ModuleNotFoundError",
     "evalue": "No module named 'geopy'",
     "output_type": "error",
     "traceback": [
      "\u001b[0;31m---------------------------------------------------------------------------\u001b[0m",
      "\u001b[0;31mModuleNotFoundError\u001b[0m                       Traceback (most recent call last)",
      "Cell \u001b[0;32mIn[9], line 1\u001b[0m\n\u001b[0;32m----> 1\u001b[0m \u001b[38;5;28;01mfrom\u001b[39;00m \u001b[38;5;21;01msearches\u001b[39;00m\u001b[38;5;21;01m.\u001b[39;00m\u001b[38;5;21;01mgoogle_places\u001b[39;00m \u001b[38;5;28;01mimport\u001b[39;00m GoogleMapsAPI, GooglePlacesAPI\n\u001b[1;32m      2\u001b[0m \u001b[38;5;28;01mfrom\u001b[39;00m \u001b[38;5;21;01msearches\u001b[39;00m\u001b[38;5;21;01m.\u001b[39;00m\u001b[38;5;21;01mutil\u001b[39;00m \u001b[38;5;28;01mimport\u001b[39;00m extract_city, get_city_center_coordinates\n\u001b[1;32m      3\u001b[0m \u001b[38;5;28;01mfrom\u001b[39;00m \u001b[38;5;21;01mtext_util\u001b[39;00m \u001b[38;5;28;01mimport\u001b[39;00m clean_text\n",
      "File \u001b[0;32m~/Documents/python/upwork/reimagined-funicular/src/searches/google_places.py:16\u001b[0m\n\u001b[1;32m     12\u001b[0m \u001b[38;5;28;01mimport\u001b[39;00m \u001b[38;5;21;01mtyping\u001b[39;00m \u001b[38;5;28;01mas\u001b[39;00m \u001b[38;5;21;01mT\u001b[39;00m\n\u001b[1;32m     14\u001b[0m \u001b[38;5;28;01mimport\u001b[39;00m \u001b[38;5;21;01mrequests\u001b[39;00m\n\u001b[0;32m---> 16\u001b[0m \u001b[38;5;28;01mfrom\u001b[39;00m \u001b[38;5;21;01msearches\u001b[39;00m\u001b[38;5;21;01m.\u001b[39;00m\u001b[38;5;21;01mutil\u001b[39;00m \u001b[38;5;28;01mimport\u001b[39;00m Coordinates, get_viewport\n\u001b[1;32m     18\u001b[0m ADVANCED_FIELDS \u001b[38;5;241m=\u001b[39m [\n\u001b[1;32m     19\u001b[0m     \u001b[38;5;124m\"\u001b[39m\u001b[38;5;124mplaces.formattedAddress\u001b[39m\u001b[38;5;124m\"\u001b[39m,\n\u001b[1;32m     20\u001b[0m     \u001b[38;5;124m\"\u001b[39m\u001b[38;5;124mplaces.displayName\u001b[39m\u001b[38;5;124m\"\u001b[39m,\n\u001b[0;32m   (...)\u001b[0m\n\u001b[1;32m     40\u001b[0m     \u001b[38;5;124m\"\u001b[39m\u001b[38;5;124mplaces.accessibilityOptions\u001b[39m\u001b[38;5;124m\"\u001b[39m,\n\u001b[1;32m     41\u001b[0m ]\n\u001b[1;32m     44\u001b[0m ADVANCED_FIELDS2 \u001b[38;5;241m=\u001b[39m [\n\u001b[1;32m     45\u001b[0m     \u001b[38;5;124m\"\u001b[39m\u001b[38;5;124mplaces.id\u001b[39m\u001b[38;5;124m\"\u001b[39m,\n\u001b[1;32m     46\u001b[0m     \u001b[38;5;124m\"\u001b[39m\u001b[38;5;124mplaces.displayName\u001b[39m\u001b[38;5;124m\"\u001b[39m,\n\u001b[0;32m   (...)\u001b[0m\n\u001b[1;32m     57\u001b[0m     \u001b[38;5;124m\"\u001b[39m\u001b[38;5;124mplaces.goodForChildren\u001b[39m\u001b[38;5;124m\"\u001b[39m,\n\u001b[1;32m     58\u001b[0m ]\n",
      "File \u001b[0;32m~/Documents/python/upwork/reimagined-funicular/src/searches/util.py:4\u001b[0m\n\u001b[1;32m      1\u001b[0m \u001b[38;5;28;01mimport\u001b[39;00m \u001b[38;5;21;01mmath\u001b[39;00m\n\u001b[1;32m      2\u001b[0m \u001b[38;5;28;01mimport\u001b[39;00m \u001b[38;5;21;01mtyping\u001b[39;00m \u001b[38;5;28;01mas\u001b[39;00m \u001b[38;5;21;01mT\u001b[39;00m\n\u001b[0;32m----> 4\u001b[0m \u001b[38;5;28;01mfrom\u001b[39;00m \u001b[38;5;21;01mgeopy\u001b[39;00m\u001b[38;5;21;01m.\u001b[39;00m\u001b[38;5;21;01mgeocoders\u001b[39;00m \u001b[38;5;28;01mimport\u001b[39;00m Nominatim\n\u001b[1;32m      6\u001b[0m METERS_PER_MILE \u001b[38;5;241m=\u001b[39m \u001b[38;5;241m1609.34\u001b[39m\n\u001b[1;32m      7\u001b[0m METERS_PER_KILOMETER \u001b[38;5;241m=\u001b[39m \u001b[38;5;241m1000.0\u001b[39m\n",
      "\u001b[0;31mModuleNotFoundError\u001b[0m: No module named 'geopy'"
     ]
    }
   ],
   "source": [
    "from searches.google_places import GoogleMapsAPI, GooglePlacesAPI\n",
    "from searches.util import extract_city, get_city_center_coordinates\n",
    "from text_util import clean_text"
   ]
  },
  {
   "cell_type": "code",
   "execution_count": 3,
   "metadata": {},
   "outputs": [],
   "source": [
    "inputs = {\n",
    "    \"location\": \"South Beach Miami, FL\",\n",
    "    \"number_of_people\": 6,\n",
    "    \"date\": \"November 2024\",\n",
    "    \"duration_days\": 3,\n",
    "    \"group_type\": \"bachelorette party\",\n",
    "    \"description\": (\n",
    "        \"boutique hotel with onsite spa, beach clubs \"\n",
    "        \"with DJs during the day, and high end nightclubs. \"\n",
    "        \"List at least six restaurant options for dinner \"\n",
    "        \"that include at least one nice steakhouse and one nice sushi restaurant.\"\n",
    "    ),\n",
    "}"
   ]
  },
  {
   "cell_type": "code",
   "execution_count": null,
   "metadata": {},
   "outputs": [],
   "source": [
    "PROMPT_TEMPLATE = f\"\"\"Generate an itinerary: list names for breakfast, morning activity,\n",
    "lunch, afternoon activity, dinner, evening activity from Google Places.\n",
    "Include only day and place name for a “{inputs['duration_days']}” day\n",
    "“{inputs['group_type']}” to “{inputs['location']}” for “{inputs['number_of_people']}”\n",
    "people in “{inputs['date']}” that enjoy “{inputs['description']}”\n",
    "\"\"\"\n",
    "\n",
    "prompt = PROMPT_TEMPLATE"
   ]
  },
  {
   "cell_type": "code",
   "execution_count": null,
   "metadata": {},
   "outputs": [],
   "source": [
    "# Prompt the user for a string\n",
    "user_input = input(\"Enter a string: \")\n",
    "# Clean the input string\n",
    "cleaned_text = clean_text(user_input)\n",
    "\n",
    "# Print the cleaned string\n",
    "print(\"Cleaned string:\", cleaned_text)\n",
    "\n",
    "prompt = \"\"\"Create an itinerary and provide only the\n",
    "    \"names for places listed in google places for breakfast,\"\n",
    "    \"morning activity, lunch, afternoon activity, dinner and\"\n",
    "    \"evening activity (return only the day and the name):\n",
    "\"\"\"\n",
    "\n",
    "prompt = f\"{prompt} {cleaned_text}\""
   ]
  },
  {
   "cell_type": "code",
   "execution_count": null,
   "metadata": {
    "colab": {
     "base_uri": "https://localhost:8080/"
    },
    "executionInfo": {
     "elapsed": 2435,
     "status": "ok",
     "timestamp": 1711838165689,
     "user": {
      "displayName": "Aaron DeCoste",
      "userId": "09838251530013110066"
     },
     "user_tz": 240
    },
    "id": "N_qIxwmuFn4_",
    "outputId": "ad3575c2-4844-4ca5-d3a7-4e18d0202f51"
   },
   "outputs": [],
   "source": [
    "client = OpenAI(api_key=OPEN_AI_API_KEY)\n",
    "\n",
    "\n",
    "response = client.chat.completions.create(\n",
    "    model=\"gpt-3.5-turbo\",\n",
    "    messages=[\n",
    "        {\n",
    "            \"role\": \"user\",\n",
    "            \"content\": prompt + cleaned_text,\n",
    "        }\n",
    "    ],\n",
    "    temperature=1,\n",
    "    max_tokens=256,\n",
    "    top_p=1,\n",
    "    frequency_penalty=0,\n",
    "    presence_penalty=0,\n",
    ")\n",
    "print(response)\n",
    "\n",
    "# Extract token usage from the response\n",
    "completion_tokens = response.usage.completion_tokens\n",
    "prompt_tokens = response.usage.prompt_tokens\n",
    "total_tokens = completion_tokens + prompt_tokens\n",
    "\n",
    "# Cost estimation for 1,000,000 requests\n",
    "total_requests = 1_000_000\n",
    "total_tokens_for_all_requests = total_tokens * total_requests\n",
    "\n",
    "training_cost_per_million_tokens = 8.00\n",
    "input_usage_cost_per_million_tokens = 3.00\n",
    "output_usage_cost_per_million_tokens = 6.00\n",
    "\n",
    "total_cost = (total_tokens_for_all_requests / 1_000_000) * (\n",
    "    training_cost_per_million_tokens\n",
    "    + input_usage_cost_per_million_tokens\n",
    "    + output_usage_cost_per_million_tokens\n",
    ")\n",
    "\n",
    "print(f\"Estimated total cost for {total_requests} requests: ${total_cost:.2f}\")\n",
    "\n",
    "# Extract the itinerary content from the response\n",
    "itinerary_content = response.choices[0].message.content\n",
    "\n",
    "# Split the content into days and activities\n",
    "days = itinerary_content.split(\"\\n\\n\")\n",
    "data = []\n",
    "for day in days:\n",
    "    lines = day.split(\"\\n\")\n",
    "    day_number = lines[0].split(\" \")[1]\n",
    "    for line in lines[1:]:\n",
    "        activity_type, place = line.split(\": \")\n",
    "        data.append({\"Day\": day_number, \"Activity Type\": activity_type, \"Place\": place})\n",
    "\n",
    "# Create a DataFrame from the data\n",
    "df = pd.DataFrame(data)\n",
    "\n",
    "# Print the DataFrame\n",
    "print(df)"
   ]
  },
  {
   "cell_type": "code",
   "execution_count": null,
   "metadata": {
    "colab": {
     "base_uri": "https://localhost:8080/"
    },
    "executionInfo": {
     "elapsed": 9452,
     "status": "ok",
     "timestamp": 1711838207711,
     "user": {
      "displayName": "Aaron DeCoste",
      "userId": "09838251530013110066"
     },
     "user_tz": 240
    },
    "id": "DknkOdBADIYJ",
    "outputId": "c3719e92-6dcc-4f2a-c5ef-893ea2dca0c2"
   },
   "outputs": [],
   "source": [
    "# Location for the search\n",
    "location = \"25.790654,-80.1300455\"  # Latitude and longitude for South Beach Miami, FL\n",
    "\n",
    "# Create new columns for place name and place ID\n",
    "df[\"Place Name\"] = \"\"\n",
    "df[\"Place ID\"] = \"\"\n",
    "\n",
    "# Iterate over the DataFrame and search for each place\n",
    "for index, row in df.iterrows():\n",
    "    place_name, place_id = search_google_places(row[\"Place\"], location, GOOGLE_API_KEY)\n",
    "    df.at[index, \"Place Name\"] = place_name\n",
    "    df.at[index, \"Place ID\"] = place_id\n",
    "\n",
    "# Print the updated DataFrame\n",
    "print(df)"
   ]
  },
  {
   "cell_type": "code",
   "execution_count": null,
   "metadata": {
    "colab": {
     "base_uri": "https://localhost:8080/"
    },
    "executionInfo": {
     "elapsed": 6390,
     "status": "ok",
     "timestamp": 1711838219583,
     "user": {
      "displayName": "Aaron DeCoste",
      "userId": "09838251530013110066"
     },
     "user_tz": 240
    },
    "id": "j9yJTX4mYJzT",
    "outputId": "6c58c8be-a424-4190-e07e-c9fd5920c6a6"
   },
   "outputs": [],
   "source": [
    "# Assuming `df` is your DataFrame with 'Place Name' and 'Place ID' columns\n",
    "url_template = \"https://places.googleapis.com/v1/places/{}/?fields=id,displayName,location,primaryType,editorialSummary,websiteUri,googleMapsUri,formattedAddress,businessStatus,userRatingCount,priceLevel,rating,goodForChildren&key={GOOGLE_API_KEY}\"\n",
    "\n",
    "\n",
    "def fetch_place_details(place_id):\n",
    "    url = url_template.format(place_id)\n",
    "    response = requests.get(url)\n",
    "    if response.status_code == 200:\n",
    "        return response.json()\n",
    "    else:\n",
    "        return None\n",
    "\n",
    "\n",
    "# Iterate over each row in the DataFrame and fetch place details\n",
    "for index, row in df.iterrows():\n",
    "    place_id = row[\"Place ID\"]  # Corrected column name\n",
    "    place_details = fetch_place_details(place_id)\n",
    "    if place_details:\n",
    "        # Process the JSON data as needed, for example, you can print it\n",
    "        print(place_details)\n",
    "    else:\n",
    "        print(f\"Failed to fetch details for place with ID: {place_id}\")"
   ]
  },
  {
   "cell_type": "code",
   "execution_count": null,
   "metadata": {
    "colab": {
     "base_uri": "https://localhost:8080/",
     "height": 1000
    },
    "executionInfo": {
     "elapsed": 18789,
     "status": "error",
     "timestamp": 1711838341101,
     "user": {
      "displayName": "Aaron DeCoste",
      "userId": "09838251530013110066"
     },
     "user_tz": 240
    },
    "id": "pzqaoLNggp2_",
    "outputId": "9237e718-0e99-4d2b-8e55-b0ed4c702665"
   },
   "outputs": [],
   "source": [
    "# URL template for the nearby places API\n",
    "url_template = \"https://maps.googleapis.com/maps/api/place/nearbysearch/json?location={},{}&radius=1500&type=restaurant&keyword=breakfast&key={}\"\n",
    "\n",
    "\n",
    "# Function to fetch nearby places\n",
    "def fetch_nearby_places(location, api_key):\n",
    "    url = url_template.format(location[\"lat\"], location[\"lng\"], api_key)\n",
    "    response = requests.get(url)\n",
    "    if response.status_code == 200:\n",
    "        return response.json()[\"results\"]\n",
    "    return None\n",
    "\n",
    "\n",
    "# Iterate over each row in the DataFrame and fetch nearby breakfast places\n",
    "for index, row in df.iterrows():\n",
    "    place_id = row[\"Place ID\"]  # Assuming corrected column name\n",
    "    response = requests.get(\n",
    "        f\"https://maps.googleapis.com/maps/api/place/details/json?place_id={place_id}&fields=geometry&key={GOOGLE_API_KEY}\"\n",
    "    )\n",
    "    if response.status_code == 200:\n",
    "        location = response.json()[\"result\"][\"geometry\"][\"location\"]\n",
    "        nearby_places = fetch_nearby_places(location, GOOGLE_API_KEY)\n",
    "        if nearby_places:\n",
    "            # Print the original Place ID and the nearby breakfast places\n",
    "            print(f\"Original Place ID: {place_id}\")\n",
    "            for place in nearby_places[:2]:\n",
    "                print(f\"Nearby Place: {place['name']}\")\n",
    "                print(f\"Place ID: {place['place_id']}\")\n",
    "                # Fetch and print details of the nearby breakfast place\n",
    "                url = f'https://places.googleapis.com/v1/places/{place[\"place_id\"]}/?fields=id,displayName,location,primaryType,editorialSummary,websiteUri,googleMapsUri,formattedAddress,businessStatus,userRatingCount,priceLevel,rating,goodForChildren&key={GOOGLE_API_KEY}'\n",
    "                response = requests.get(url)\n",
    "                if response.status_code == 200:\n",
    "                    print(response.json())\n",
    "        else:\n",
    "            print(f\"No nearby found for Place ID: {place_id}\")\n",
    "    else:\n",
    "        print(f\"Failed to fetch geometry for Place ID: {place_id}\")"
   ]
  }
 ],
 "metadata": {
  "colab": {
   "authorship_tag": "ABX9TyMA03IFWmqQKkWDwPiQuD4a",
   "provenance": [
    {
     "file_id": "1ew1f_XkMbNKy3rsJ9WuRr3vfsWskEU54",
     "timestamp": 1712353675429
    }
   ]
  },
  "kernelspec": {
   "display_name": "Python 3",
   "name": "python3"
  },
  "language_info": {
   "codemirror_mode": {
    "name": "ipython",
    "version": 3
   },
   "file_extension": ".py",
   "mimetype": "text/x-python",
   "name": "python",
   "nbconvert_exporter": "python",
   "pygments_lexer": "ipython3",
   "version": "3.11.6"
  }
 },
 "nbformat": 4,
 "nbformat_minor": 0
}
