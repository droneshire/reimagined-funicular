{
 "cells": [
  {
   "cell_type": "code",
   "execution_count": 1,
   "metadata": {},
   "outputs": [],
   "source": [
    "import os\n",
    "import sys\n",
    "\n",
    "import dotenv\n",
    "\n",
    "dotenv.load_dotenv()\n",
    "\n",
    "GOOGLE_API_KEY = os.getenv(\"GOOGLE_API_KEY\")\n",
    "OPEN_AI_API_KEY = os.getenv(\"OPEN_AI_API_KEY\")\n",
    "\n",
    "CURRENT_DIR = %pwd\n",
    "ROOT_DIR = os.path.dirname(CURRENT_DIR)\n",
    "\n",
    "SRC_DIR = os.path.join(ROOT_DIR, \"src\")\n",
    "sys.path.append(SRC_DIR)"
   ]
  },
  {
   "cell_type": "code",
   "execution_count": null,
   "metadata": {
    "colab": {
     "base_uri": "https://localhost:8080/"
    },
    "executionInfo": {
     "elapsed": 6338,
     "status": "ok",
     "timestamp": 1711838159630,
     "user": {
      "displayName": "Aaron DeCoste",
      "userId": "09838251530013110066"
     },
     "user_tz": 240
    },
    "id": "TPN5d8ZduLLN",
    "outputId": "1f121cd2-1f4d-4fff-da45-90e1249a36ab"
   },
   "outputs": [],
   "source": [
    "# Import necessary libraries\n",
    "import nltk\n",
    "from nltk.corpus import stopwords\n",
    "from nltk.tokenize import word_tokenize\n",
    "\n",
    "# Download the necessary NLTK data\n",
    "nltk.download(\"punkt\")\n",
    "nltk.download(\"stopwords\")\n",
    "\n",
    "\n",
    "# Function to remove stop words, punctuation, and double quotes\n",
    "def clean_text(text):\n",
    "    # Convert text to lowercase\n",
    "    text = text.lower()\n",
    "    # Remove double quotes\n",
    "    text = text.replace('\"', \"\")\n",
    "    # Tokenize the text into words\n",
    "    words = word_tokenize(text)\n",
    "    # Remove punctuation\n",
    "    words = [word for word in words if word.isalnum()]\n",
    "    # Remove stop words\n",
    "    stop_words = set(stopwords.words(\"english\"))\n",
    "    filtered_words = [word for word in words if word not in stop_words]\n",
    "    # Rejoin words into a single string\n",
    "    cleaned_text = \" \".join(filtered_words)\n",
    "    return cleaned_text\n",
    "\n",
    "\n",
    "# Prompt the user for a string\n",
    "user_input = input(\"Enter a string: \")\n",
    "# Clean the input string\n",
    "cleaned_text = clean_text(user_input)\n",
    "\n",
    "# Print the cleaned string\n",
    "print(\"Cleaned string:\", cleaned_text)"
   ]
  },
  {
   "cell_type": "code",
   "execution_count": null,
   "metadata": {
    "colab": {
     "base_uri": "https://localhost:8080/"
    },
    "executionInfo": {
     "elapsed": 2435,
     "status": "ok",
     "timestamp": 1711838165689,
     "user": {
      "displayName": "Aaron DeCoste",
      "userId": "09838251530013110066"
     },
     "user_tz": 240
    },
    "id": "N_qIxwmuFn4_",
    "outputId": "ad3575c2-4844-4ca5-d3a7-4e18d0202f51"
   },
   "outputs": [],
   "source": [
    "from openai import OpenAI\n",
    "\n",
    "client = OpenAI(api_key=\"OpenAI_Key\")\n",
    "\n",
    "\n",
    "response = client.chat.completions.create(\n",
    "    model=\"gpt-3.5-turbo\",\n",
    "    messages=[\n",
    "        {\n",
    "            \"role\": \"user\",\n",
    "            \"content\": f\"Create an itinerary and provide only the names for places listed in google places for breakfast, morning activity, lunch, afternoon activity, dinner and evening activity (return only the day and the name): {cleaned_text}\",\n",
    "        }\n",
    "    ],\n",
    "    temperature=1,\n",
    "    max_tokens=256,\n",
    "    top_p=1,\n",
    "    frequency_penalty=0,\n",
    "    presence_penalty=0,\n",
    ")\n",
    "print(response)\n",
    "\n",
    "# Extract token usage from the response\n",
    "completion_tokens = response.usage.completion_tokens\n",
    "prompt_tokens = response.usage.prompt_tokens\n",
    "total_tokens = completion_tokens + prompt_tokens\n",
    "\n",
    "# Cost estimation for 1,000,000 requests\n",
    "total_requests = 1_000_000\n",
    "total_tokens_for_all_requests = total_tokens * total_requests\n",
    "\n",
    "training_cost_per_million_tokens = 8.00\n",
    "input_usage_cost_per_million_tokens = 3.00\n",
    "output_usage_cost_per_million_tokens = 6.00\n",
    "\n",
    "total_cost = (total_tokens_for_all_requests / 1_000_000) * (\n",
    "    training_cost_per_million_tokens\n",
    "    + input_usage_cost_per_million_tokens\n",
    "    + output_usage_cost_per_million_tokens\n",
    ")\n",
    "\n",
    "print(f\"Estimated total cost for {total_requests} requests: ${total_cost:.2f}\")"
   ]
  },
  {
   "cell_type": "code",
   "execution_count": null,
   "metadata": {
    "colab": {
     "base_uri": "https://localhost:8080/"
    },
    "executionInfo": {
     "elapsed": 195,
     "status": "ok",
     "timestamp": 1711838189641,
     "user": {
      "displayName": "Aaron DeCoste",
      "userId": "09838251530013110066"
     },
     "user_tz": 240
    },
    "id": "N8Ju7IitKKnS",
    "outputId": "bf8d8ee4-3349-42ec-c53a-8c4391bd8173"
   },
   "outputs": [],
   "source": [
    "import pandas as pd\n",
    "\n",
    "# Extract the itinerary content from the response\n",
    "itinerary_content = response.choices[0].message.content\n",
    "\n",
    "# Split the content into days and activities\n",
    "days = itinerary_content.split(\"\\n\\n\")\n",
    "data = []\n",
    "for day in days:\n",
    "    lines = day.split(\"\\n\")\n",
    "    day_number = lines[0].split(\" \")[1]\n",
    "    for line in lines[1:]:\n",
    "        activity_type, place = line.split(\": \")\n",
    "        data.append({\"Day\": day_number, \"Activity Type\": activity_type, \"Place\": place})\n",
    "\n",
    "# Create a DataFrame from the data\n",
    "df = pd.DataFrame(data)\n",
    "\n",
    "# Print the DataFrame\n",
    "print(df)"
   ]
  },
  {
   "cell_type": "code",
   "execution_count": null,
   "metadata": {
    "colab": {
     "base_uri": "https://localhost:8080/"
    },
    "executionInfo": {
     "elapsed": 9452,
     "status": "ok",
     "timestamp": 1711838207711,
     "user": {
      "displayName": "Aaron DeCoste",
      "userId": "09838251530013110066"
     },
     "user_tz": 240
    },
    "id": "DknkOdBADIYJ",
    "outputId": "c3719e92-6dcc-4f2a-c5ef-893ea2dca0c2"
   },
   "outputs": [],
   "source": [
    "import pandas as pd\n",
    "import requests\n",
    "\n",
    "\n",
    "def search_google_places(place, location, api_key):\n",
    "    # Construct the URL for the Google Places API\n",
    "    base_url = \"https://maps.googleapis.com/maps/api/place/findplacefromtext/json\"\n",
    "    params = {\n",
    "        \"input\": place,\n",
    "        \"inputtype\": \"textquery\",\n",
    "        \"fields\": \"name,place_id\",\n",
    "        \"locationbias\": f\"point:{location}\",\n",
    "        \"key\": api_key,\n",
    "    }\n",
    "    # Make the API request\n",
    "    response = requests.get(base_url, params=params)\n",
    "    # Parse the response\n",
    "    if response.status_code == 200:\n",
    "        result = response.json()\n",
    "        if result.get(\"candidates\"):\n",
    "            return result[\"candidates\"][0][\"name\"], result[\"candidates\"][0][\"place_id\"]\n",
    "    return None, None\n",
    "\n",
    "\n",
    "# Location for the search\n",
    "location = \"25.790654,-80.1300455\"  # Latitude and longitude for South Beach Miami, FL\n",
    "\n",
    "# Create new columns for place name and place ID\n",
    "df[\"Place Name\"] = \"\"\n",
    "df[\"Place ID\"] = \"\"\n",
    "\n",
    "# Iterate over the DataFrame and search for each place\n",
    "for index, row in df.iterrows():\n",
    "    place_name, place_id = search_google_places(row[\"Place\"], location, GOOGLE_API_KEY)\n",
    "    df.at[index, \"Place Name\"] = place_name\n",
    "    df.at[index, \"Place ID\"] = place_id\n",
    "\n",
    "# Print the updated DataFrame\n",
    "print(df)"
   ]
  },
  {
   "cell_type": "code",
   "execution_count": null,
   "metadata": {
    "colab": {
     "base_uri": "https://localhost:8080/"
    },
    "executionInfo": {
     "elapsed": 6390,
     "status": "ok",
     "timestamp": 1711838219583,
     "user": {
      "displayName": "Aaron DeCoste",
      "userId": "09838251530013110066"
     },
     "user_tz": 240
    },
    "id": "j9yJTX4mYJzT",
    "outputId": "6c58c8be-a424-4190-e07e-c9fd5920c6a6"
   },
   "outputs": [],
   "source": [
    "import requests\n",
    "import pandas as pd\n",
    "\n",
    "# Assuming `df` is your DataFrame with 'Place Name' and 'Place ID' columns\n",
    "url_template = \"https://places.googleapis.com/v1/places/{}/?fields=id,displayName,location,primaryType,editorialSummary,websiteUri,googleMapsUri,formattedAddress,businessStatus,userRatingCount,priceLevel,rating,goodForChildren&key={GOOGLE_API_KEY}\"\n",
    "\n",
    "\n",
    "def fetch_place_details(place_id):\n",
    "    url = url_template.format(place_id)\n",
    "    response = requests.get(url)\n",
    "    if response.status_code == 200:\n",
    "        return response.json()\n",
    "    else:\n",
    "        return None\n",
    "\n",
    "\n",
    "# Iterate over each row in the DataFrame and fetch place details\n",
    "for index, row in df.iterrows():\n",
    "    place_id = row[\"Place ID\"]  # Corrected column name\n",
    "    place_details = fetch_place_details(place_id)\n",
    "    if place_details:\n",
    "        # Process the JSON data as needed, for example, you can print it\n",
    "        print(place_details)\n",
    "    else:\n",
    "        print(f\"Failed to fetch details for place with ID: {place_id}\")"
   ]
  },
  {
   "cell_type": "code",
   "execution_count": null,
   "metadata": {
    "colab": {
     "base_uri": "https://localhost:8080/",
     "height": 1000
    },
    "executionInfo": {
     "elapsed": 18789,
     "status": "error",
     "timestamp": 1711838341101,
     "user": {
      "displayName": "Aaron DeCoste",
      "userId": "09838251530013110066"
     },
     "user_tz": 240
    },
    "id": "pzqaoLNggp2_",
    "outputId": "9237e718-0e99-4d2b-8e55-b0ed4c702665"
   },
   "outputs": [],
   "source": [
    "import requests\n",
    "import pandas as pd\n",
    "\n",
    "# URL template for the nearby places API\n",
    "url_template = \"https://maps.googleapis.com/maps/api/place/nearbysearch/json?location={},{}&radius=1500&type=restaurant&keyword=breakfast&key={}\"\n",
    "\n",
    "\n",
    "# Function to fetch nearby places\n",
    "def fetch_nearby_places(location, api_key):\n",
    "    url = url_template.format(location[\"lat\"], location[\"lng\"], api_key)\n",
    "    response = requests.get(url)\n",
    "    if response.status_code == 200:\n",
    "        return response.json()[\"results\"]\n",
    "    return None\n",
    "\n",
    "\n",
    "# Iterate over each row in the DataFrame and fetch nearby breakfast places\n",
    "for index, row in df.iterrows():\n",
    "    place_id = row[\"Place ID\"]  # Assuming corrected column name\n",
    "    response = requests.get(\n",
    "        f\"https://maps.googleapis.com/maps/api/place/details/json?place_id={place_id}&fields=geometry&key={GOOGLE_API_KEY}\"\n",
    "    )\n",
    "    if response.status_code == 200:\n",
    "        location = response.json()[\"result\"][\"geometry\"][\"location\"]\n",
    "        nearby_places = fetch_nearby_places(location, GOOGLE_API_KEY)\n",
    "        if nearby_places:\n",
    "            # Print the original Place ID and the nearby breakfast places\n",
    "            print(f\"Original Place ID: {place_id}\")\n",
    "            for place in nearby_places[:2]:\n",
    "                print(f\"Nearby Place: {place['name']}\")\n",
    "                print(f\"Place ID: {place['place_id']}\")\n",
    "                # Fetch and print details of the nearby breakfast place\n",
    "                url = f'https://places.googleapis.com/v1/places/{place[\"place_id\"]}/?fields=id,displayName,location,primaryType,editorialSummary,websiteUri,googleMapsUri,formattedAddress,businessStatus,userRatingCount,priceLevel,rating,goodForChildren&key={GOOGLE_API_KEY}'\n",
    "                response = requests.get(url)\n",
    "                if response.status_code == 200:\n",
    "                    print(response.json())\n",
    "        else:\n",
    "            print(f\"No nearby found for Place ID: {place_id}\")\n",
    "    else:\n",
    "        print(f\"Failed to fetch geometry for Place ID: {place_id}\")"
   ]
  }
 ],
 "metadata": {
  "colab": {
   "authorship_tag": "ABX9TyMA03IFWmqQKkWDwPiQuD4a",
   "provenance": [
    {
     "file_id": "1ew1f_XkMbNKy3rsJ9WuRr3vfsWskEU54",
     "timestamp": 1712353675429
    }
   ]
  },
  "kernelspec": {
   "display_name": "Python 3",
   "name": "python3"
  },
  "language_info": {
   "codemirror_mode": {
    "name": "ipython",
    "version": 3
   },
   "file_extension": ".py",
   "mimetype": "text/x-python",
   "name": "python",
   "nbconvert_exporter": "python",
   "pygments_lexer": "ipython3",
   "version": "3.11.6"
  }
 },
 "nbformat": 4,
 "nbformat_minor": 0
}
