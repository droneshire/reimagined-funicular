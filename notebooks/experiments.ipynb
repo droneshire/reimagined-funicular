{
 "cells": [
  {
   "cell_type": "code",
   "execution_count": 1,
   "metadata": {},
   "outputs": [],
   "source": [
    "import time\n",
    "\n",
    "start = time.time()"
   ]
  },
  {
   "cell_type": "code",
   "execution_count": 2,
   "metadata": {},
   "outputs": [],
   "source": [
    "import concurrent.futures\n",
    "import json\n",
    "import os\n",
    "import re\n",
    "import sys\n",
    "import typing as T\n",
    "from threading import Lock\n",
    "\n",
    "import dotenv\n",
    "import pandas as pd\n",
    "\n",
    "dotenv.load_dotenv()\n",
    "\n",
    "# Secrets\n",
    "GOOGLE_API_KEY = os.getenv(\"GOOGLE_PLACES_API_KEY\")\n",
    "assert GOOGLE_API_KEY is not None, \"GOOGLE_PLACES_API_KEY is not set in the `.env` file\"\n",
    "OPEN_AI_API_KEY = os.getenv(\"OPEN_AI_API_KEY\")\n",
    "assert OPEN_AI_API_KEY is not None, \"OPEN_AI_API_KEY is not set in the `.env` file\"\n",
    "MAPBOX_API_KEY = os.getenv(\"MAPBOX_API_KEY\")\n",
    "assert MAPBOX_API_KEY is not None, \"MAPBOX_API_KEY is not set in the `.env` file\"\n",
    "\n",
    "CURRENT_DIR = %pwd\n",
    "ROOT_DIR = os.path.dirname(CURRENT_DIR)\n",
    "SRC_DIR = os.path.join(ROOT_DIR, \"src\")\n",
    "\n",
    "sys.path.append(SRC_DIR)"
   ]
  },
  {
   "cell_type": "code",
   "execution_count": 3,
   "metadata": {},
   "outputs": [],
   "source": [
    "from llm.defs import DAY_COLUMN, ACTIVITY_TYPE_COLUMN, LOCATION_COLUMN, DESCRIPTION_COLUMN\n",
    "from google.utils import TYPES, DEFAULT_TYPE\n",
    "\n",
    "UI_INPUT = False"
   ]
  },
  {
   "cell_type": "code",
   "execution_count": 4,
   "metadata": {},
   "outputs": [],
   "source": [
    "inputs = {\n",
    "    \"location\": \"South Beach Miami, FL\",\n",
    "    \"number_of_people\": 6,\n",
    "    \"date\": \"November 2026\",\n",
    "    \"duration_days\": 3,\n",
    "    \"group_type\": \"bachelorette party\",\n",
    "    \"description\": (\n",
    "        \"include boutique hotel options must 4 stars higher onsite spa beach clubs djs\"\n",
    "        \"day high end nightclubs list least six restaurant options dinner include least \"\n",
    "        \"one nice steakhouse one nice sushi restaurant\"\n",
    "    ),\n",
    "}"
   ]
  },
  {
   "cell_type": "code",
   "execution_count": 5,
   "metadata": {},
   "outputs": [],
   "source": [
    "if UI_INPUT:\n",
    "    ##############################################################################\n",
    "    # Skip this block if you want to use the hard coded inputs\n",
    "    ##############################################################################\n",
    "    from input_ui import SimpleInputForm\n",
    "\n",
    "    form = SimpleInputForm()\n",
    "    form.setup()\n",
    "    inputs = form.run_form()"
   ]
  },
  {
   "cell_type": "code",
   "execution_count": 6,
   "metadata": {},
   "outputs": [
    {
     "name": "stderr",
     "output_type": "stream",
     "text": [
      "/home/ross/Documents/python/upwork/reimagined-funicular/venv/lib/python3.11/site-packages/langchain_core/_api/deprecation.py:117: LangChainDeprecationWarning: The function `convert_pydantic_to_openai_function` was deprecated in LangChain 0.1.16 and will be removed in 0.2.0. Use langchain_core.utils.function_calling.convert_to_openai_function() instead.\n",
      "  warn_deprecated(\n"
     ]
    },
    {
     "name": "stdout",
     "output_type": "stream",
     "text": [
      "{'day': ['Day 1', 'Day 1', 'Day 1', 'Day 1', 'Day 1', 'Day 1', 'Day 2', 'Day 2', 'Day 2', 'Day 2', 'Day 2', 'Day 2', 'Day 3', 'Day 3', 'Day 3', 'Day 3', 'Day 3', 'Day 3'], 'activity_type': ['Breakfast', 'Morning Activity', 'Lunch', 'Afternoon Activity', 'Dinner', 'Evening Activity', 'Breakfast', 'Morning Activity', 'Lunch', 'Afternoon Activity', 'Dinner', 'Evening Activity', 'Breakfast', 'Morning Activity', 'Lunch', 'Afternoon Activity', 'Dinner', 'Evening Activity'], 'location': ['The Local House', 'South Beach', 'Yardbird Southern Table and Bar', 'South Pointe Park', 'Prime 112', 'LIV Nightclub', 'The Front Porch Cafe', 'South Beach Kayak', \"Joe's Stone Crab\", 'Wynwood Walls', 'Komodo', 'E11EVEN Miami', 'The Social Club', 'South Beach Parasail', 'Big Pink', 'Lincoln Road Mall', 'Nobu Miami', 'Story Nightclub'], 'description': ['Chic Breakfast Spot', 'Beach Relaxation', 'Southern Comfort Food', 'Park with Ocean Views', 'Upscale Steakhouse', 'High-End Nightclub', 'Cozy Cafe with Outdoor Seating', 'Kayaking Adventure', 'Seafood Lunch', 'Artistic Murals', 'Upscale Asian Fusion', 'Premier Nightclub', 'Casual Dining Spot', 'Parasailing Adventure', 'Colorful Diner', 'Shopping and Dining', 'Fine Dining Sushi', 'Exclusive Nightclub']}\n",
      "Input Tokens: 41\n",
      "Output Tokens: 157\n",
      "Total Tokens: 198\n"
     ]
    }
   ],
   "source": [
    "from llm.search import OpenAiSearch\n",
    "from llm.defs import ITINERARY_PROMPT_TEMPLATE, Itinerary\n",
    "\n",
    "llm = OpenAiSearch(OPEN_AI_API_KEY)\n",
    "output = llm.search(inputs, ITINERARY_PROMPT_TEMPLATE, Itinerary)\n",
    "\n",
    "print(output)\n",
    "\n",
    "input_tokens, output_tokens, total_tokens = llm.calculate_tokens(inputs, output)\n",
    "print(f\"Input Tokens: {input_tokens}\")\n",
    "print(f\"Output Tokens: {output_tokens}\")\n",
    "print(f\"Total Tokens: {total_tokens}\")"
   ]
  },
  {
   "cell_type": "code",
   "execution_count": 7,
   "metadata": {},
   "outputs": [
    {
     "name": "stdout",
     "output_type": "stream",
     "text": [
      "      day       activity_type                         location  \\\n",
      "0   Day 1           Breakfast                  The Local House   \n",
      "1   Day 1    Morning Activity                      South Beach   \n",
      "2   Day 1               Lunch  Yardbird Southern Table and Bar   \n",
      "3   Day 1  Afternoon Activity                South Pointe Park   \n",
      "4   Day 1              Dinner                        Prime 112   \n",
      "5   Day 1    Evening Activity                    LIV Nightclub   \n",
      "6   Day 2           Breakfast             The Front Porch Cafe   \n",
      "7   Day 2    Morning Activity                South Beach Kayak   \n",
      "8   Day 2               Lunch                 Joe's Stone Crab   \n",
      "9   Day 2  Afternoon Activity                    Wynwood Walls   \n",
      "10  Day 2              Dinner                           Komodo   \n",
      "11  Day 2    Evening Activity                    E11EVEN Miami   \n",
      "12  Day 3           Breakfast                  The Social Club   \n",
      "13  Day 3    Morning Activity             South Beach Parasail   \n",
      "14  Day 3               Lunch                         Big Pink   \n",
      "15  Day 3  Afternoon Activity                Lincoln Road Mall   \n",
      "16  Day 3              Dinner                       Nobu Miami   \n",
      "17  Day 3    Evening Activity                  Story Nightclub   \n",
      "\n",
      "                       description  \n",
      "0              Chic Breakfast Spot  \n",
      "1                 Beach Relaxation  \n",
      "2            Southern Comfort Food  \n",
      "3            Park with Ocean Views  \n",
      "4               Upscale Steakhouse  \n",
      "5               High-End Nightclub  \n",
      "6   Cozy Cafe with Outdoor Seating  \n",
      "7               Kayaking Adventure  \n",
      "8                    Seafood Lunch  \n",
      "9                  Artistic Murals  \n",
      "10            Upscale Asian Fusion  \n",
      "11               Premier Nightclub  \n",
      "12              Casual Dining Spot  \n",
      "13           Parasailing Adventure  \n",
      "14                  Colorful Diner  \n",
      "15             Shopping and Dining  \n",
      "16               Fine Dining Sushi  \n",
      "17             Exclusive Nightclub  \n"
     ]
    }
   ],
   "source": [
    "# Extract the itinerary content from the response\n",
    "df = pd.DataFrame(output)\n",
    "\n",
    "print(df)"
   ]
  },
  {
   "cell_type": "code",
   "execution_count": 12,
   "metadata": {},
   "outputs": [],
   "source": [
    "# Inputs for the nearby lookup, if store_type is left as None, it will\n",
    "# default to match the type of the place that we are searching nearby from\n",
    "MAX_NEARBY_PLACES = 2\n",
    "\n",
    "keyword = \"breakfast\"\n",
    "store_type = None  # None will default to the type of the place that we are searching nearby from\n",
    "radius_meters = 1500\n",
    "# radius_from_place_miles = 1.0\n",
    "# radius_meters = miles_to_meters(radius_from_place_miles)"
   ]
  },
  {
   "cell_type": "code",
   "execution_count": 13,
   "metadata": {},
   "outputs": [
    {
     "name": "stdout",
     "output_type": "stream",
     "text": [
      "South Beach Miami, FL coordinates: (25.7744291, -80.1332415)\n",
      "Getting nearby places for The Local House at {'lat': 25.773442, 'lng': -80.132473}\n",
      "Found 20 nearby places for The Local House\n",
      "Getting nearby places for South Beach at {'lat': 25.7826123, 'lng': -80.1340772}\n",
      "Unable to get nearby places info for South Beach\n",
      "Getting nearby places for Yardbird Southern Table and Bar at {'lat': 25.7890685, 'lng': -80.14015789999999}\n",
      "Found 20 nearby places for Yardbird Southern Table and Bar\n",
      "Getting nearby places for South Pointe Park at {'lat': 25.7663809, 'lng': -80.134671}\n",
      "Unable to get nearby places info for South Pointe Park\n",
      "Getting nearby places for Prime 112 at {'lat': 25.76992, 'lng': -80.13326699999999}\n",
      "Found 20 nearby places for Prime 112\n",
      "Getting nearby places for LIV Nightclub at {'lat': 25.8178372, 'lng': -80.1227119}\n",
      "Found 3 nearby places for LIV Nightclub\n",
      "Getting nearby places for The Front Porch Cafe at {'lat': 25.7871279, 'lng': -80.1297932}\n",
      "Found 20 nearby places for The Front Porch Cafe\n",
      "Getting nearby places for South Beach Kayak at {'lat': 25.7934112, 'lng': -80.1441268}\n",
      "Found 20 nearby places for South Beach Kayak\n",
      "Getting nearby places for Joe's Stone Crab at {'lat': 25.7688567, 'lng': -80.1352544}\n",
      "Found 20 nearby places for Joe's Stone Crab\n",
      "Getting nearby places for Wynwood Walls at {'lat': 25.8010178, 'lng': -80.1993841}\n",
      "Found 1 nearby places for Wynwood Walls\n",
      "Getting nearby places for Komodo at {'lat': 25.765616, 'lng': -80.19006159999999}\n",
      "Found 20 nearby places for Komodo\n",
      "Getting nearby places for E11EVEN Miami at {'lat': 25.7849804, 'lng': -80.19359299999999}\n",
      "Found 3 nearby places for E11EVEN Miami\n",
      "Getting nearby places for The Social Club at {'lat': 25.7928324, 'lng': -80.1293964}\n",
      "Found 20 nearby places for The Social Club\n",
      "Getting nearby places for South Beach Parasail at {'lat': 25.7897844, 'lng': -80.12720510000001}\n",
      "Found 4 nearby places for South Beach Parasail\n",
      "Getting nearby places for Big Pink at {'lat': 25.7708433, 'lng': -80.1336919}\n",
      "Found 20 nearby places for Big Pink\n",
      "Getting nearby places for Lincoln Road Mall at {'lat': 25.7906517, 'lng': -80.13657599999999}\n",
      "Unable to get nearby places info for Lincoln Road Mall\n",
      "Getting nearby places for Nobu Miami at {'lat': 25.819636, 'lng': -80.1218825}\n",
      "Found 18 nearby places for Nobu Miami\n",
      "Getting nearby places for Story Nightclub at {'lat': 25.7705572, 'lng': -80.1340678}\n",
      "Found 5 nearby places for Story Nightclub\n",
      "Num results: 18\n",
      "Local House\n",
      "  - Toast All Day\n",
      "  - 11th Street Diner\n",
      "  - Cafe Americano\n",
      "  - Bacon Bitch\n",
      "  - Sunny Side Cafe & Eatery\n",
      "  - FL Cafe\n",
      "  - Front Porch Cafe\n",
      "  - Eggstaurant\n",
      "  - News Cafe\n",
      "  - Las Olas Cafe\n",
      "  - Starlite Cafe\n",
      "  - Cafe Bonjour\n",
      "  - Grand Cafe Miami\n",
      "  - Big Pink\n",
      "  - Pura Vida\n",
      "  - Café Bastille Miami Beach\n",
      "  - Oliver's Bistro\n",
      "  - À la Folie Café\n",
      "  - The Bistro - Eat. Drink. Connect.®\n",
      "  - Cuba Cafe\n",
      "South Beach\n",
      "Yardbird Table & Bar\n",
      "  - Wilde on the Porch\n",
      "  - Eggstaurant\n",
      "  - 11th Street Diner\n",
      "  - Cafe Americano\n",
      "  - Front Porch Cafe\n",
      "  - Bacon Bitch\n",
      "  - FL Cafe\n",
      "  - Taste Cafe\n",
      "  - Sunny Side Cafe & Eatery\n",
      "  - Cafe Americano\n",
      "  - Toast All Day\n",
      "  - Cafe Ole\n",
      "  - News Cafe\n",
      "  - McDonald's\n",
      "  - Las Olas Cafe\n",
      "  - The Bistro - Eat. Drink. Connect.®\n",
      "  - Starlite Cafe\n",
      "  - Cafe Bonjour\n",
      "  - Playa Cafe\n",
      "  - McDonald's\n",
      "South Pointe Park\n",
      "Prime 112 Restaurant\n",
      "  - Toast All Day\n",
      "  - 11th Street Diner\n",
      "  - Cafe Americano\n",
      "  - Bacon Bitch\n",
      "  - Sunny Side Cafe & Eatery\n",
      "  - News Cafe\n",
      "  - Las Olas Cafe\n",
      "  - Starlite Cafe\n",
      "  - Cafe Bonjour\n",
      "  - Grand Cafe Miami\n",
      "  - Big Pink\n",
      "  - Miami Art Kitchen Delivery Service\n",
      "  - FL Cafe\n",
      "  - Pura Vida\n",
      "  - Café Bastille Miami Beach\n",
      "  - Oliver's Bistro\n",
      "  - Cuba Cafe\n",
      "  - Limonada Bar + Brunch\n",
      "  - Salt Kitchen & Lounge\n",
      "  - Social\n",
      "LIV Nightclub Miami\n",
      "  - The Tavern\n",
      "  - Essensia at The Palms Hotel & Spa\n",
      "  - The Living Room\n",
      "Front Porch Cafe\n",
      "  - Wilde on the Porch\n",
      "  - Eggstaurant\n",
      "  - Toast All Day\n",
      "  - 11th Street Diner\n",
      "  - Cafe Americano\n",
      "  - Front Porch Cafe\n",
      "  - Bacon Bitch\n",
      "  - Sunny Side Cafe & Eatery\n",
      "  - FL Cafe\n",
      "  - Cafe Americano\n",
      "  - Taste Cafe\n",
      "  - Cafe Ole\n",
      "  - News Cafe\n",
      "  - McDonald's\n",
      "  - Las Olas Cafe\n",
      "  - The Bistro - Eat. Drink. Connect.®\n",
      "  - Starlite Cafe\n",
      "  - Cafe Bonjour\n",
      "  - Grand Cafe Miami\n",
      "  - Playa Cafe\n",
      "MB Kayak & Paddleboard Rentals\n",
      "  - Wilde on the Porch\n",
      "  - Taste Cafe\n",
      "  - Eggstaurant\n",
      "  - Bacon Bitch\n",
      "  - Cafe Americano\n",
      "  - 11th Street Diner\n",
      "  - Front Porch Cafe\n",
      "  - FL Cafe\n",
      "  - Cafe Americano\n",
      "  - McDonald's\n",
      "  - Cafe Ole\n",
      "  - Orange Blossom\n",
      "  - The Bistro - Eat. Drink. Connect.®\n",
      "  - Miami Art Kitchen Delivery Service\n",
      "  - Einstein Bros. Bagels\n",
      "  - Playa Cafe\n",
      "  - Cuba Cafe\n",
      "  - The Social Club\n",
      "  - Icebox Cafe\n",
      "  - McDonald's\n",
      "Joe's Stone Crab\n",
      "  - Toast All Day\n",
      "  - 11th Street Diner\n",
      "  - Cafe Americano\n",
      "  - Bacon Bitch\n",
      "  - Sunny Side Cafe & Eatery\n",
      "  - News Cafe\n",
      "  - Las Olas Cafe\n",
      "  - Starlite Cafe\n",
      "  - Cafe Bonjour\n",
      "  - Grand Cafe Miami\n",
      "  - Big Pink\n",
      "  - Miami Art Kitchen Delivery Service\n",
      "  - Pura Vida\n",
      "  - Café Bastille Miami Beach\n",
      "  - Oliver's Bistro\n",
      "  - Cuba Cafe\n",
      "  - Limonada Bar + Brunch\n",
      "  - Salt Kitchen & Lounge\n",
      "  - Social\n",
      "  - Local House\n",
      "Wynwood Walls\n",
      "  - Pérez Art Museum Miami\n",
      "Komodo Miami\n",
      "  - Manolo & Rene Grill\n",
      "  - Brunch Box Miami\n",
      "  - The Village Restaurants & Shops\n",
      "  - Caffe Tonny\n",
      "  - Café Bastille Downtown\n",
      "  - Sedici Cafe\n",
      "  - Fiore Caffe Miami\n",
      "  - CoffeeZone\n",
      "  - Cafe Papillon\n",
      "  - Cafe Americano\n",
      "  - Las Palmas Restaurant\n",
      "  - McDonald's\n",
      "  - The Bistro - Eat. Drink. Connect.®\n",
      "  - Union Cafe & Restaurant\n",
      "  - Seaman Cafe\n",
      "  - Olé\n",
      "  - Breakfast By Mandarin Oriental\n",
      "  - El Sitio Coffee Bar\n",
      "  - Cafe 701\n",
      "  - Bacon Bitch\n",
      "E11EVEN\n",
      "  - 1601 Lounge\n",
      "  - Black Market Miami\n",
      "  - Crusoe Cabana Deluxe Wynwood\n",
      "The Social Club\n",
      "  - Wilde on the Porch\n",
      "  - Maxine's Bistro and Bar - American Restaurant in Miami Beach\n",
      "  - The Social Club\n",
      "  - 9beach Latin Restaurant & Bar\n",
      "  - Limonada Bar + Brunch\n",
      "  - FL Cafe\n",
      "  - Salt Cafe Miami Beach\n",
      "  - À la Folie Café\n",
      "  - Bar Luca\n",
      "  - 27 Restaurant & Bar\n",
      "  - Panizza Bistro\n",
      "  - DECK Sixteen\n",
      "  - FIX\n",
      "  - Malua Cozy Coffee\n",
      "  - Carlyle Cafe\n",
      "  - Essensia at The Palms Hotel & Spa\n",
      "  - The Lifeguard - Café, Restaurant & Art Gallery by Edwar Simal\n",
      "  - Boulevard Restaurant\n",
      "  - Sweet Liberty Drinks & Supply Company\n",
      "  - Sola Miami Beach\n",
      "South Beach Parasail\n",
      "  - Miami Culinary Tours\n",
      "  - Miami to Key West Shuttle\n",
      "  - 305 Tours And Rentals Bikes & Segway\n",
      "  - Miami Party Hostel\n",
      "Big Pink\n",
      "  - Toast All Day\n",
      "  - 11th Street Diner\n",
      "  - Cafe Americano\n",
      "  - Bacon Bitch\n",
      "  - Sunny Side Cafe & Eatery\n",
      "  - News Cafe\n",
      "  - Las Olas Cafe\n",
      "  - Starlite Cafe\n",
      "  - Cafe Bonjour\n",
      "  - Grand Cafe Miami\n",
      "  - Big Pink\n",
      "  - FL Cafe\n",
      "  - Pura Vida\n",
      "  - Café Bastille Miami Beach\n",
      "  - Oliver's Bistro\n",
      "  - Cuba Cafe\n",
      "  - Estefan Kitchen Express\n",
      "  - Limonada Bar + Brunch\n",
      "  - Salt Kitchen & Lounge\n",
      "  - Social\n",
      "Lincoln Rd Mall\n",
      "Nobu Miami\n",
      "  - Roasters 'N Toasters\n",
      "  - The Tavern\n",
      "  - Bagel Time Cafe\n",
      "  - LATIN CAFÉ\n",
      "  - Jules Kitchen, at Circa 39 Hotel\n",
      "  - Tropical Beach Cafe\n",
      "  - Vida\n",
      "  - Crema Gourmet Espresso Bar\n",
      "  - Ambersweet\n",
      "  - Fresh Restaurant\n",
      "  - Paradise Cafe\n",
      "  - La Provence Boulangerie\n",
      "  - Essensia at The Palms Hotel & Spa\n",
      "  - Bon Bouquet Cafe\n",
      "  - Tasty Beach Cafe\n",
      "  - MARKET at The Miami Beach EDITION\n",
      "  - Cecconi's Miami\n",
      "  - Florida Buffet Restaurant\n",
      "STORY\n",
      "  - Mango's Tropical Cafe South Beach\n",
      "  - Palace Bar & Restaurant\n",
      "  - Locust Ocean Drive\n",
      "  - HIGHBAR Pool + Bar + Sky\n",
      "  - Rakija Lounge\n"
     ]
    }
   ],
   "source": [
    "from google.search import SearchPlaces\n",
    "\n",
    "search = SearchPlaces(GOOGLE_API_KEY, verbose=True)\n",
    "itinerary_place_details, nearby_place_details, city_coordinates = search.search(\n",
    "    city=inputs[\"location\"],\n",
    "    itinerary=df,\n",
    "    store_type=store_type,\n",
    "    keyword=keyword,\n",
    "    radius_meters=radius_meters,\n",
    ")\n",
    "print(f\"Num results: {len(itinerary_place_details)}\")\n",
    "for place, item in itinerary_place_details:\n",
    "    print(item[\"name\"])\n",
    "    nearby_names = [i[\"name\"] for i in nearby_place_details.get(place, [])]\n",
    "    for name in nearby_names:\n",
    "        print(f\"  - {name}\")"
   ]
  },
  {
   "cell_type": "code",
   "execution_count": 10,
   "metadata": {},
   "outputs": [
    {
     "name": "stdout",
     "output_type": "stream",
     "text": [
      "Total time taken: 23.84 seconds\n"
     ]
    }
   ],
   "source": [
    "total_time = time.time() - start\n",
    "\n",
    "print(f\"Total time taken: {total_time:.2f} seconds\")"
   ]
  },
  {
   "cell_type": "code",
   "execution_count": 11,
   "metadata": {},
   "outputs": [
    {
     "name": "stdout",
     "output_type": "stream",
     "text": [
      "Creating map...\n"
     ]
    },
    {
     "data": {
      "application/vnd.plotly.v1+json": {
       "config": {
        "plotlyServerURL": "https://plot.ly"
       },
       "data": [
        {
         "lat": [
          25.773442,
          25.7752028,
          25.7817989,
          25.7825034
         ],
         "lon": [
          -80.132473,
          -80.132093,
          -80.13225969999999,
          -80.130515
         ],
         "marker": {
          "cmax": 1,
          "cmin": 0,
          "color": [
           0.05555555555555555,
           0.05555555555555555,
           0.05555555555555555,
           0.05555555555555555
          ],
          "colorscale": [
           [
            0,
            "rgb(150,0,90)"
           ],
           [
            0.125,
            "rgb(0,0,200)"
           ],
           [
            0.25,
            "rgb(0,25,255)"
           ],
           [
            0.375,
            "rgb(0,152,255)"
           ],
           [
            0.5,
            "rgb(44,255,150)"
           ],
           [
            0.625,
            "rgb(151,255,0)"
           ],
           [
            0.75,
            "rgb(255,234,0)"
           ],
           [
            0.875,
            "rgb(255,111,0)"
           ],
           [
            1,
            "rgb(255,0,0)"
           ]
          ],
          "size": 5
         },
         "mode": "markers",
         "name": "Day Day 1: Breakfast at The Local House",
         "text": [
          "Local House",
          "Toast All Day",
          "11th Street Diner",
          "Cafe Americano"
         ],
         "type": "scattermapbox"
        },
        {
         "lat": [
          25.7826123
         ],
         "lon": [
          -80.1340772
         ],
         "marker": {
          "cmax": 1,
          "cmin": 0,
          "color": [
           0.1111111111111111
          ],
          "colorscale": [
           [
            0,
            "rgb(150,0,90)"
           ],
           [
            0.125,
            "rgb(0,0,200)"
           ],
           [
            0.25,
            "rgb(0,25,255)"
           ],
           [
            0.375,
            "rgb(0,152,255)"
           ],
           [
            0.5,
            "rgb(44,255,150)"
           ],
           [
            0.625,
            "rgb(151,255,0)"
           ],
           [
            0.75,
            "rgb(255,234,0)"
           ],
           [
            0.875,
            "rgb(255,111,0)"
           ],
           [
            1,
            "rgb(255,0,0)"
           ]
          ],
          "size": 5
         },
         "mode": "markers",
         "name": "Day Day 1: Morning Activity at South Beach",
         "text": [
          "South Beach"
         ],
         "type": "scattermapbox"
        },
        {
         "lat": [
          25.7890685,
          25.7924555,
          25.7879736,
          25.7817989
         ],
         "lon": [
          -80.14015789999999,
          -80.12993259999999,
          -80.13206629999999,
          -80.13225969999999
         ],
         "marker": {
          "cmax": 1,
          "cmin": 0,
          "color": [
           0.16666666666666666,
           0.16666666666666666,
           0.16666666666666666,
           0.16666666666666666
          ],
          "colorscale": [
           [
            0,
            "rgb(150,0,90)"
           ],
           [
            0.125,
            "rgb(0,0,200)"
           ],
           [
            0.25,
            "rgb(0,25,255)"
           ],
           [
            0.375,
            "rgb(0,152,255)"
           ],
           [
            0.5,
            "rgb(44,255,150)"
           ],
           [
            0.625,
            "rgb(151,255,0)"
           ],
           [
            0.75,
            "rgb(255,234,0)"
           ],
           [
            0.875,
            "rgb(255,111,0)"
           ],
           [
            1,
            "rgb(255,0,0)"
           ]
          ],
          "size": 5
         },
         "mode": "markers",
         "name": "Day Day 1: Lunch at Yardbird Southern Table and Bar",
         "text": [
          "Yardbird Table & Bar",
          "Wilde on the Porch",
          "Eggstaurant",
          "11th Street Diner"
         ],
         "type": "scattermapbox"
        },
        {
         "lat": [
          25.7663809
         ],
         "lon": [
          -80.134671
         ],
         "marker": {
          "cmax": 1,
          "cmin": 0,
          "color": [
           0.2222222222222222
          ],
          "colorscale": [
           [
            0,
            "rgb(150,0,90)"
           ],
           [
            0.125,
            "rgb(0,0,200)"
           ],
           [
            0.25,
            "rgb(0,25,255)"
           ],
           [
            0.375,
            "rgb(0,152,255)"
           ],
           [
            0.5,
            "rgb(44,255,150)"
           ],
           [
            0.625,
            "rgb(151,255,0)"
           ],
           [
            0.75,
            "rgb(255,234,0)"
           ],
           [
            0.875,
            "rgb(255,111,0)"
           ],
           [
            1,
            "rgb(255,0,0)"
           ]
          ],
          "size": 5
         },
         "mode": "markers",
         "name": "Day Day 1: Afternoon Activity at South Pointe Park",
         "text": [
          "South Pointe Park"
         ],
         "type": "scattermapbox"
        },
        {
         "lat": [
          25.76992,
          25.7752028,
          25.7817989,
          25.7825034
         ],
         "lon": [
          -80.13326699999999,
          -80.132093,
          -80.13225969999999,
          -80.130515
         ],
         "marker": {
          "cmax": 1,
          "cmin": 0,
          "color": [
           0.2777777777777778,
           0.2777777777777778,
           0.2777777777777778,
           0.2777777777777778
          ],
          "colorscale": [
           [
            0,
            "rgb(150,0,90)"
           ],
           [
            0.125,
            "rgb(0,0,200)"
           ],
           [
            0.25,
            "rgb(0,25,255)"
           ],
           [
            0.375,
            "rgb(0,152,255)"
           ],
           [
            0.5,
            "rgb(44,255,150)"
           ],
           [
            0.625,
            "rgb(151,255,0)"
           ],
           [
            0.75,
            "rgb(255,234,0)"
           ],
           [
            0.875,
            "rgb(255,111,0)"
           ],
           [
            1,
            "rgb(255,0,0)"
           ]
          ],
          "size": 5
         },
         "mode": "markers",
         "name": "Day Day 1: Dinner at Prime 112",
         "text": [
          "Prime 112 Restaurant",
          "Toast All Day",
          "11th Street Diner",
          "Cafe Americano"
         ],
         "type": "scattermapbox"
        },
        {
         "lat": [
          25.8178372,
          25.8109023,
          25.8061366,
          25.8074372
         ],
         "lon": [
          -80.1227119,
          -80.1235039,
          -80.12393159999999,
          -80.1235097
         ],
         "marker": {
          "cmax": 1,
          "cmin": 0,
          "color": [
           0.33333333333333337,
           0.33333333333333337,
           0.33333333333333337,
           0.33333333333333337
          ],
          "colorscale": [
           [
            0,
            "rgb(150,0,90)"
           ],
           [
            0.125,
            "rgb(0,0,200)"
           ],
           [
            0.25,
            "rgb(0,25,255)"
           ],
           [
            0.375,
            "rgb(0,152,255)"
           ],
           [
            0.5,
            "rgb(44,255,150)"
           ],
           [
            0.625,
            "rgb(151,255,0)"
           ],
           [
            0.75,
            "rgb(255,234,0)"
           ],
           [
            0.875,
            "rgb(255,111,0)"
           ],
           [
            1,
            "rgb(255,0,0)"
           ]
          ],
          "size": 5
         },
         "mode": "markers",
         "name": "Day Day 1: Evening Activity at LIV Nightclub",
         "text": [
          "LIV Nightclub Miami",
          "The Tavern",
          "Essensia at The Palms Hotel & Spa",
          "The Living Room"
         ],
         "type": "scattermapbox"
        },
        {
         "lat": [
          25.7871279,
          25.7924555,
          25.7879736,
          25.7752028
         ],
         "lon": [
          -80.1297932,
          -80.12993259999999,
          -80.13206629999999,
          -80.132093
         ],
         "marker": {
          "cmax": 1,
          "cmin": 0,
          "color": [
           0.38888888888888895,
           0.38888888888888895,
           0.38888888888888895,
           0.38888888888888895
          ],
          "colorscale": [
           [
            0,
            "rgb(150,0,90)"
           ],
           [
            0.125,
            "rgb(0,0,200)"
           ],
           [
            0.25,
            "rgb(0,25,255)"
           ],
           [
            0.375,
            "rgb(0,152,255)"
           ],
           [
            0.5,
            "rgb(44,255,150)"
           ],
           [
            0.625,
            "rgb(151,255,0)"
           ],
           [
            0.75,
            "rgb(255,234,0)"
           ],
           [
            0.875,
            "rgb(255,111,0)"
           ],
           [
            1,
            "rgb(255,0,0)"
           ]
          ],
          "size": 5
         },
         "mode": "markers",
         "name": "Day Day 2: Breakfast at The Front Porch Cafe",
         "text": [
          "Front Porch Cafe",
          "Wilde on the Porch",
          "Eggstaurant",
          "Toast All Day"
         ],
         "type": "scattermapbox"
        },
        {
         "lat": [
          25.7934112,
          25.7924555,
          25.7923221,
          25.7879736
         ],
         "lon": [
          -80.1441268,
          -80.12993259999999,
          -80.1358206,
          -80.13206629999999
         ],
         "marker": {
          "cmax": 1,
          "cmin": 0,
          "color": [
           0.44444444444444453,
           0.44444444444444453,
           0.44444444444444453,
           0.44444444444444453
          ],
          "colorscale": [
           [
            0,
            "rgb(150,0,90)"
           ],
           [
            0.125,
            "rgb(0,0,200)"
           ],
           [
            0.25,
            "rgb(0,25,255)"
           ],
           [
            0.375,
            "rgb(0,152,255)"
           ],
           [
            0.5,
            "rgb(44,255,150)"
           ],
           [
            0.625,
            "rgb(151,255,0)"
           ],
           [
            0.75,
            "rgb(255,234,0)"
           ],
           [
            0.875,
            "rgb(255,111,0)"
           ],
           [
            1,
            "rgb(255,0,0)"
           ]
          ],
          "size": 5
         },
         "mode": "markers",
         "name": "Day Day 2: Morning Activity at South Beach Kayak",
         "text": [
          "MB Kayak & Paddleboard Rentals",
          "Wilde on the Porch",
          "Taste Cafe",
          "Eggstaurant"
         ],
         "type": "scattermapbox"
        },
        {
         "lat": [
          25.7688567,
          25.7752028,
          25.7817989,
          25.7825034
         ],
         "lon": [
          -80.1352544,
          -80.132093,
          -80.13225969999999,
          -80.130515
         ],
         "marker": {
          "cmax": 1,
          "cmin": 0,
          "color": [
           0.5000000000000001,
           0.5000000000000001,
           0.5000000000000001,
           0.5000000000000001
          ],
          "colorscale": [
           [
            0,
            "rgb(150,0,90)"
           ],
           [
            0.125,
            "rgb(0,0,200)"
           ],
           [
            0.25,
            "rgb(0,25,255)"
           ],
           [
            0.375,
            "rgb(0,152,255)"
           ],
           [
            0.5,
            "rgb(44,255,150)"
           ],
           [
            0.625,
            "rgb(151,255,0)"
           ],
           [
            0.75,
            "rgb(255,234,0)"
           ],
           [
            0.875,
            "rgb(255,111,0)"
           ],
           [
            1,
            "rgb(255,0,0)"
           ]
          ],
          "size": 5
         },
         "mode": "markers",
         "name": "Day Day 2: Lunch at Joe's Stone Crab",
         "text": [
          "Joe's Stone Crab",
          "Toast All Day",
          "11th Street Diner",
          "Cafe Americano"
         ],
         "type": "scattermapbox"
        },
        {
         "lat": [
          25.8010178,
          25.7859307
         ],
         "lon": [
          -80.1993841,
          -80.1861912
         ],
         "marker": {
          "cmax": 1,
          "cmin": 0,
          "color": [
           0.5555555555555557,
           0.5555555555555557
          ],
          "colorscale": [
           [
            0,
            "rgb(150,0,90)"
           ],
           [
            0.125,
            "rgb(0,0,200)"
           ],
           [
            0.25,
            "rgb(0,25,255)"
           ],
           [
            0.375,
            "rgb(0,152,255)"
           ],
           [
            0.5,
            "rgb(44,255,150)"
           ],
           [
            0.625,
            "rgb(151,255,0)"
           ],
           [
            0.75,
            "rgb(255,234,0)"
           ],
           [
            0.875,
            "rgb(255,111,0)"
           ],
           [
            1,
            "rgb(255,0,0)"
           ]
          ],
          "size": 5
         },
         "mode": "markers",
         "name": "Day Day 2: Afternoon Activity at Wynwood Walls",
         "text": [
          "Wynwood Walls",
          "Pérez Art Museum Miami"
         ],
         "type": "scattermapbox"
        },
        {
         "lat": [
          25.765616,
          25.7761222,
          25.7722903,
          25.7732441
         ],
         "lon": [
          -80.19006159999999,
          -80.1887979,
          -80.18974020000002,
          -80.19231119999999
         ],
         "marker": {
          "cmax": 1,
          "cmin": 0,
          "color": [
           0.6111111111111113,
           0.6111111111111113,
           0.6111111111111113,
           0.6111111111111113
          ],
          "colorscale": [
           [
            0,
            "rgb(150,0,90)"
           ],
           [
            0.125,
            "rgb(0,0,200)"
           ],
           [
            0.25,
            "rgb(0,25,255)"
           ],
           [
            0.375,
            "rgb(0,152,255)"
           ],
           [
            0.5,
            "rgb(44,255,150)"
           ],
           [
            0.625,
            "rgb(151,255,0)"
           ],
           [
            0.75,
            "rgb(255,234,0)"
           ],
           [
            0.875,
            "rgb(255,111,0)"
           ],
           [
            1,
            "rgb(255,0,0)"
           ]
          ],
          "size": 5
         },
         "mode": "markers",
         "name": "Day Day 2: Dinner at Komodo",
         "text": [
          "Komodo Miami",
          "Manolo & Rene Grill",
          "Brunch Box Miami",
          "The Village Restaurants & Shops"
         ],
         "type": "scattermapbox"
        },
        {
         "lat": [
          25.7849804,
          25.7910185,
          25.77325,
          25.7992551
         ],
         "lon": [
          -80.19359299999999,
          -80.1885233,
          -80.19050299999999,
          -80.19807469999999
         ],
         "marker": {
          "cmax": 1,
          "cmin": 0,
          "color": [
           0.6666666666666669,
           0.6666666666666669,
           0.6666666666666669,
           0.6666666666666669
          ],
          "colorscale": [
           [
            0,
            "rgb(150,0,90)"
           ],
           [
            0.125,
            "rgb(0,0,200)"
           ],
           [
            0.25,
            "rgb(0,25,255)"
           ],
           [
            0.375,
            "rgb(0,152,255)"
           ],
           [
            0.5,
            "rgb(44,255,150)"
           ],
           [
            0.625,
            "rgb(151,255,0)"
           ],
           [
            0.75,
            "rgb(255,234,0)"
           ],
           [
            0.875,
            "rgb(255,111,0)"
           ],
           [
            1,
            "rgb(255,0,0)"
           ]
          ],
          "size": 5
         },
         "mode": "markers",
         "name": "Day Day 2: Evening Activity at E11EVEN Miami",
         "text": [
          "E11EVEN",
          "1601 Lounge",
          "Black Market Miami",
          "Crusoe Cabana Deluxe Wynwood"
         ],
         "type": "scattermapbox"
        },
        {
         "lat": [
          25.7928324,
          25.7924555,
          25.7934272,
          25.7928324
         ],
         "lon": [
          -80.1293964,
          -80.12993259999999,
          -80.1299013,
          -80.1293964
         ],
         "marker": {
          "cmax": 1,
          "cmin": 0,
          "color": [
           0.7222222222222224,
           0.7222222222222224,
           0.7222222222222224,
           0.7222222222222224
          ],
          "colorscale": [
           [
            0,
            "rgb(150,0,90)"
           ],
           [
            0.125,
            "rgb(0,0,200)"
           ],
           [
            0.25,
            "rgb(0,25,255)"
           ],
           [
            0.375,
            "rgb(0,152,255)"
           ],
           [
            0.5,
            "rgb(44,255,150)"
           ],
           [
            0.625,
            "rgb(151,255,0)"
           ],
           [
            0.75,
            "rgb(255,234,0)"
           ],
           [
            0.875,
            "rgb(255,111,0)"
           ],
           [
            1,
            "rgb(255,0,0)"
           ]
          ],
          "size": 5
         },
         "mode": "markers",
         "name": "Day Day 3: Breakfast at The Social Club",
         "text": [
          "The Social Club",
          "Wilde on the Porch",
          "Maxine's Bistro and Bar - American Restaurant in Miami Beach",
          "The Social Club"
         ],
         "type": "scattermapbox"
        },
        {
         "lat": [
          25.7897844,
          25.7741483,
          25.790881,
          25.7796875
         ],
         "lon": [
          -80.12720510000001,
          -80.1385432,
          -80.1310085,
          -80.13296919999999
         ],
         "marker": {
          "cmax": 1,
          "cmin": 0,
          "color": [
           0.777777777777778,
           0.777777777777778,
           0.777777777777778,
           0.777777777777778
          ],
          "colorscale": [
           [
            0,
            "rgb(150,0,90)"
           ],
           [
            0.125,
            "rgb(0,0,200)"
           ],
           [
            0.25,
            "rgb(0,25,255)"
           ],
           [
            0.375,
            "rgb(0,152,255)"
           ],
           [
            0.5,
            "rgb(44,255,150)"
           ],
           [
            0.625,
            "rgb(151,255,0)"
           ],
           [
            0.75,
            "rgb(255,234,0)"
           ],
           [
            0.875,
            "rgb(255,111,0)"
           ],
           [
            1,
            "rgb(255,0,0)"
           ]
          ],
          "size": 5
         },
         "mode": "markers",
         "name": "Day Day 3: Morning Activity at South Beach Parasail",
         "text": [
          "South Beach Parasail",
          "Miami Culinary Tours",
          "Miami to Key West Shuttle",
          "305 Tours And Rentals Bikes & Segway"
         ],
         "type": "scattermapbox"
        },
        {
         "lat": [
          25.7708433,
          25.7752028,
          25.7817989,
          25.7825034
         ],
         "lon": [
          -80.1336919,
          -80.132093,
          -80.13225969999999,
          -80.130515
         ],
         "marker": {
          "cmax": 1,
          "cmin": 0,
          "color": [
           0.8333333333333336,
           0.8333333333333336,
           0.8333333333333336,
           0.8333333333333336
          ],
          "colorscale": [
           [
            0,
            "rgb(150,0,90)"
           ],
           [
            0.125,
            "rgb(0,0,200)"
           ],
           [
            0.25,
            "rgb(0,25,255)"
           ],
           [
            0.375,
            "rgb(0,152,255)"
           ],
           [
            0.5,
            "rgb(44,255,150)"
           ],
           [
            0.625,
            "rgb(151,255,0)"
           ],
           [
            0.75,
            "rgb(255,234,0)"
           ],
           [
            0.875,
            "rgb(255,111,0)"
           ],
           [
            1,
            "rgb(255,0,0)"
           ]
          ],
          "size": 5
         },
         "mode": "markers",
         "name": "Day Day 3: Lunch at Big Pink",
         "text": [
          "Big Pink",
          "Toast All Day",
          "11th Street Diner",
          "Cafe Americano"
         ],
         "type": "scattermapbox"
        },
        {
         "lat": [
          25.7906517
         ],
         "lon": [
          -80.13657599999999
         ],
         "marker": {
          "cmax": 1,
          "cmin": 0,
          "color": [
           0.8888888888888892
          ],
          "colorscale": [
           [
            0,
            "rgb(150,0,90)"
           ],
           [
            0.125,
            "rgb(0,0,200)"
           ],
           [
            0.25,
            "rgb(0,25,255)"
           ],
           [
            0.375,
            "rgb(0,152,255)"
           ],
           [
            0.5,
            "rgb(44,255,150)"
           ],
           [
            0.625,
            "rgb(151,255,0)"
           ],
           [
            0.75,
            "rgb(255,234,0)"
           ],
           [
            0.875,
            "rgb(255,111,0)"
           ],
           [
            1,
            "rgb(255,0,0)"
           ]
          ],
          "size": 5
         },
         "mode": "markers",
         "name": "Day Day 3: Afternoon Activity at Lincoln Road Mall",
         "text": [
          "Lincoln Rd Mall"
         ],
         "type": "scattermapbox"
        },
        {
         "lat": [
          25.819636,
          25.8140971,
          25.8109023,
          25.8125407
         ],
         "lon": [
          -80.1218825,
          -80.1300133,
          -80.1235039,
          -80.13553639999999
         ],
         "marker": {
          "cmax": 1,
          "cmin": 0,
          "color": [
           0.9444444444444448,
           0.9444444444444448,
           0.9444444444444448,
           0.9444444444444448
          ],
          "colorscale": [
           [
            0,
            "rgb(150,0,90)"
           ],
           [
            0.125,
            "rgb(0,0,200)"
           ],
           [
            0.25,
            "rgb(0,25,255)"
           ],
           [
            0.375,
            "rgb(0,152,255)"
           ],
           [
            0.5,
            "rgb(44,255,150)"
           ],
           [
            0.625,
            "rgb(151,255,0)"
           ],
           [
            0.75,
            "rgb(255,234,0)"
           ],
           [
            0.875,
            "rgb(255,111,0)"
           ],
           [
            1,
            "rgb(255,0,0)"
           ]
          ],
          "size": 5
         },
         "mode": "markers",
         "name": "Day Day 3: Dinner at Nobu Miami",
         "text": [
          "Nobu Miami",
          "Roasters 'N Toasters",
          "The Tavern",
          "Bagel Time Cafe"
         ],
         "type": "scattermapbox"
        },
        {
         "lat": [
          25.7705572,
          25.7794405,
          25.7812258,
          25.7796189
         ],
         "lon": [
          -80.1340678,
          -80.1312129,
          -80.130653,
          -80.13112799999999
         ],
         "marker": {
          "cmax": 1,
          "cmin": 0,
          "color": [
           1.0000000000000002,
           1.0000000000000002,
           1.0000000000000002,
           1.0000000000000002
          ],
          "colorscale": [
           [
            0,
            "rgb(150,0,90)"
           ],
           [
            0.125,
            "rgb(0,0,200)"
           ],
           [
            0.25,
            "rgb(0,25,255)"
           ],
           [
            0.375,
            "rgb(0,152,255)"
           ],
           [
            0.5,
            "rgb(44,255,150)"
           ],
           [
            0.625,
            "rgb(151,255,0)"
           ],
           [
            0.75,
            "rgb(255,234,0)"
           ],
           [
            0.875,
            "rgb(255,111,0)"
           ],
           [
            1,
            "rgb(255,0,0)"
           ]
          ],
          "size": 5
         },
         "mode": "markers",
         "name": "Day Day 3: Evening Activity at Story Nightclub",
         "text": [
          "STORY",
          "Mango's Tropical Cafe South Beach",
          "Palace Bar & Restaurant",
          "Locust Ocean Drive"
         ],
         "type": "scattermapbox"
        }
       ],
       "layout": {
        "annotations": [
         {
          "font": {
           "color": "black",
           "size": 14
          },
          "showarrow": false,
          "text": "Nearby 3 places for `breakfast` near the places for each itinerary",
          "x": 0.5,
          "xanchor": "center",
          "xref": "paper",
          "y": 0,
          "yanchor": "top",
          "yref": "paper"
         }
        ],
        "autosize": true,
        "height": 800,
        "hovermode": "closest",
        "mapbox": {
         "accesstoken": "pk.eyJ1IjoicnllYWdlcjEyIiwiYSI6ImNsc3BtMHN1ejBmaHAycHFqa2p2OHY3dzUifQ.6AZToAAklKweN4Jk5CjaxA",
         "bearing": 0,
         "center": {
          "lat": 25.7744291,
          "lon": -80.1332415
         },
         "pitch": 0,
         "zoom": 12
        },
        "template": {
         "data": {
          "bar": [
           {
            "error_x": {
             "color": "#2a3f5f"
            },
            "error_y": {
             "color": "#2a3f5f"
            },
            "marker": {
             "line": {
              "color": "#E5ECF6",
              "width": 0.5
             },
             "pattern": {
              "fillmode": "overlay",
              "size": 10,
              "solidity": 0.2
             }
            },
            "type": "bar"
           }
          ],
          "barpolar": [
           {
            "marker": {
             "line": {
              "color": "#E5ECF6",
              "width": 0.5
             },
             "pattern": {
              "fillmode": "overlay",
              "size": 10,
              "solidity": 0.2
             }
            },
            "type": "barpolar"
           }
          ],
          "carpet": [
           {
            "aaxis": {
             "endlinecolor": "#2a3f5f",
             "gridcolor": "white",
             "linecolor": "white",
             "minorgridcolor": "white",
             "startlinecolor": "#2a3f5f"
            },
            "baxis": {
             "endlinecolor": "#2a3f5f",
             "gridcolor": "white",
             "linecolor": "white",
             "minorgridcolor": "white",
             "startlinecolor": "#2a3f5f"
            },
            "type": "carpet"
           }
          ],
          "choropleth": [
           {
            "colorbar": {
             "outlinewidth": 0,
             "ticks": ""
            },
            "type": "choropleth"
           }
          ],
          "contour": [
           {
            "colorbar": {
             "outlinewidth": 0,
             "ticks": ""
            },
            "colorscale": [
             [
              0,
              "#0d0887"
             ],
             [
              0.1111111111111111,
              "#46039f"
             ],
             [
              0.2222222222222222,
              "#7201a8"
             ],
             [
              0.3333333333333333,
              "#9c179e"
             ],
             [
              0.4444444444444444,
              "#bd3786"
             ],
             [
              0.5555555555555556,
              "#d8576b"
             ],
             [
              0.6666666666666666,
              "#ed7953"
             ],
             [
              0.7777777777777778,
              "#fb9f3a"
             ],
             [
              0.8888888888888888,
              "#fdca26"
             ],
             [
              1,
              "#f0f921"
             ]
            ],
            "type": "contour"
           }
          ],
          "contourcarpet": [
           {
            "colorbar": {
             "outlinewidth": 0,
             "ticks": ""
            },
            "type": "contourcarpet"
           }
          ],
          "heatmap": [
           {
            "colorbar": {
             "outlinewidth": 0,
             "ticks": ""
            },
            "colorscale": [
             [
              0,
              "#0d0887"
             ],
             [
              0.1111111111111111,
              "#46039f"
             ],
             [
              0.2222222222222222,
              "#7201a8"
             ],
             [
              0.3333333333333333,
              "#9c179e"
             ],
             [
              0.4444444444444444,
              "#bd3786"
             ],
             [
              0.5555555555555556,
              "#d8576b"
             ],
             [
              0.6666666666666666,
              "#ed7953"
             ],
             [
              0.7777777777777778,
              "#fb9f3a"
             ],
             [
              0.8888888888888888,
              "#fdca26"
             ],
             [
              1,
              "#f0f921"
             ]
            ],
            "type": "heatmap"
           }
          ],
          "heatmapgl": [
           {
            "colorbar": {
             "outlinewidth": 0,
             "ticks": ""
            },
            "colorscale": [
             [
              0,
              "#0d0887"
             ],
             [
              0.1111111111111111,
              "#46039f"
             ],
             [
              0.2222222222222222,
              "#7201a8"
             ],
             [
              0.3333333333333333,
              "#9c179e"
             ],
             [
              0.4444444444444444,
              "#bd3786"
             ],
             [
              0.5555555555555556,
              "#d8576b"
             ],
             [
              0.6666666666666666,
              "#ed7953"
             ],
             [
              0.7777777777777778,
              "#fb9f3a"
             ],
             [
              0.8888888888888888,
              "#fdca26"
             ],
             [
              1,
              "#f0f921"
             ]
            ],
            "type": "heatmapgl"
           }
          ],
          "histogram": [
           {
            "marker": {
             "pattern": {
              "fillmode": "overlay",
              "size": 10,
              "solidity": 0.2
             }
            },
            "type": "histogram"
           }
          ],
          "histogram2d": [
           {
            "colorbar": {
             "outlinewidth": 0,
             "ticks": ""
            },
            "colorscale": [
             [
              0,
              "#0d0887"
             ],
             [
              0.1111111111111111,
              "#46039f"
             ],
             [
              0.2222222222222222,
              "#7201a8"
             ],
             [
              0.3333333333333333,
              "#9c179e"
             ],
             [
              0.4444444444444444,
              "#bd3786"
             ],
             [
              0.5555555555555556,
              "#d8576b"
             ],
             [
              0.6666666666666666,
              "#ed7953"
             ],
             [
              0.7777777777777778,
              "#fb9f3a"
             ],
             [
              0.8888888888888888,
              "#fdca26"
             ],
             [
              1,
              "#f0f921"
             ]
            ],
            "type": "histogram2d"
           }
          ],
          "histogram2dcontour": [
           {
            "colorbar": {
             "outlinewidth": 0,
             "ticks": ""
            },
            "colorscale": [
             [
              0,
              "#0d0887"
             ],
             [
              0.1111111111111111,
              "#46039f"
             ],
             [
              0.2222222222222222,
              "#7201a8"
             ],
             [
              0.3333333333333333,
              "#9c179e"
             ],
             [
              0.4444444444444444,
              "#bd3786"
             ],
             [
              0.5555555555555556,
              "#d8576b"
             ],
             [
              0.6666666666666666,
              "#ed7953"
             ],
             [
              0.7777777777777778,
              "#fb9f3a"
             ],
             [
              0.8888888888888888,
              "#fdca26"
             ],
             [
              1,
              "#f0f921"
             ]
            ],
            "type": "histogram2dcontour"
           }
          ],
          "mesh3d": [
           {
            "colorbar": {
             "outlinewidth": 0,
             "ticks": ""
            },
            "type": "mesh3d"
           }
          ],
          "parcoords": [
           {
            "line": {
             "colorbar": {
              "outlinewidth": 0,
              "ticks": ""
             }
            },
            "type": "parcoords"
           }
          ],
          "pie": [
           {
            "automargin": true,
            "type": "pie"
           }
          ],
          "scatter": [
           {
            "fillpattern": {
             "fillmode": "overlay",
             "size": 10,
             "solidity": 0.2
            },
            "type": "scatter"
           }
          ],
          "scatter3d": [
           {
            "line": {
             "colorbar": {
              "outlinewidth": 0,
              "ticks": ""
             }
            },
            "marker": {
             "colorbar": {
              "outlinewidth": 0,
              "ticks": ""
             }
            },
            "type": "scatter3d"
           }
          ],
          "scattercarpet": [
           {
            "marker": {
             "colorbar": {
              "outlinewidth": 0,
              "ticks": ""
             }
            },
            "type": "scattercarpet"
           }
          ],
          "scattergeo": [
           {
            "marker": {
             "colorbar": {
              "outlinewidth": 0,
              "ticks": ""
             }
            },
            "type": "scattergeo"
           }
          ],
          "scattergl": [
           {
            "marker": {
             "colorbar": {
              "outlinewidth": 0,
              "ticks": ""
             }
            },
            "type": "scattergl"
           }
          ],
          "scattermapbox": [
           {
            "marker": {
             "colorbar": {
              "outlinewidth": 0,
              "ticks": ""
             }
            },
            "type": "scattermapbox"
           }
          ],
          "scatterpolar": [
           {
            "marker": {
             "colorbar": {
              "outlinewidth": 0,
              "ticks": ""
             }
            },
            "type": "scatterpolar"
           }
          ],
          "scatterpolargl": [
           {
            "marker": {
             "colorbar": {
              "outlinewidth": 0,
              "ticks": ""
             }
            },
            "type": "scatterpolargl"
           }
          ],
          "scatterternary": [
           {
            "marker": {
             "colorbar": {
              "outlinewidth": 0,
              "ticks": ""
             }
            },
            "type": "scatterternary"
           }
          ],
          "surface": [
           {
            "colorbar": {
             "outlinewidth": 0,
             "ticks": ""
            },
            "colorscale": [
             [
              0,
              "#0d0887"
             ],
             [
              0.1111111111111111,
              "#46039f"
             ],
             [
              0.2222222222222222,
              "#7201a8"
             ],
             [
              0.3333333333333333,
              "#9c179e"
             ],
             [
              0.4444444444444444,
              "#bd3786"
             ],
             [
              0.5555555555555556,
              "#d8576b"
             ],
             [
              0.6666666666666666,
              "#ed7953"
             ],
             [
              0.7777777777777778,
              "#fb9f3a"
             ],
             [
              0.8888888888888888,
              "#fdca26"
             ],
             [
              1,
              "#f0f921"
             ]
            ],
            "type": "surface"
           }
          ],
          "table": [
           {
            "cells": {
             "fill": {
              "color": "#EBF0F8"
             },
             "line": {
              "color": "white"
             }
            },
            "header": {
             "fill": {
              "color": "#C8D4E3"
             },
             "line": {
              "color": "white"
             }
            },
            "type": "table"
           }
          ]
         },
         "layout": {
          "annotationdefaults": {
           "arrowcolor": "#2a3f5f",
           "arrowhead": 0,
           "arrowwidth": 1
          },
          "autotypenumbers": "strict",
          "coloraxis": {
           "colorbar": {
            "outlinewidth": 0,
            "ticks": ""
           }
          },
          "colorscale": {
           "diverging": [
            [
             0,
             "#8e0152"
            ],
            [
             0.1,
             "#c51b7d"
            ],
            [
             0.2,
             "#de77ae"
            ],
            [
             0.3,
             "#f1b6da"
            ],
            [
             0.4,
             "#fde0ef"
            ],
            [
             0.5,
             "#f7f7f7"
            ],
            [
             0.6,
             "#e6f5d0"
            ],
            [
             0.7,
             "#b8e186"
            ],
            [
             0.8,
             "#7fbc41"
            ],
            [
             0.9,
             "#4d9221"
            ],
            [
             1,
             "#276419"
            ]
           ],
           "sequential": [
            [
             0,
             "#0d0887"
            ],
            [
             0.1111111111111111,
             "#46039f"
            ],
            [
             0.2222222222222222,
             "#7201a8"
            ],
            [
             0.3333333333333333,
             "#9c179e"
            ],
            [
             0.4444444444444444,
             "#bd3786"
            ],
            [
             0.5555555555555556,
             "#d8576b"
            ],
            [
             0.6666666666666666,
             "#ed7953"
            ],
            [
             0.7777777777777778,
             "#fb9f3a"
            ],
            [
             0.8888888888888888,
             "#fdca26"
            ],
            [
             1,
             "#f0f921"
            ]
           ],
           "sequentialminus": [
            [
             0,
             "#0d0887"
            ],
            [
             0.1111111111111111,
             "#46039f"
            ],
            [
             0.2222222222222222,
             "#7201a8"
            ],
            [
             0.3333333333333333,
             "#9c179e"
            ],
            [
             0.4444444444444444,
             "#bd3786"
            ],
            [
             0.5555555555555556,
             "#d8576b"
            ],
            [
             0.6666666666666666,
             "#ed7953"
            ],
            [
             0.7777777777777778,
             "#fb9f3a"
            ],
            [
             0.8888888888888888,
             "#fdca26"
            ],
            [
             1,
             "#f0f921"
            ]
           ]
          },
          "colorway": [
           "#636efa",
           "#EF553B",
           "#00cc96",
           "#ab63fa",
           "#FFA15A",
           "#19d3f3",
           "#FF6692",
           "#B6E880",
           "#FF97FF",
           "#FECB52"
          ],
          "font": {
           "color": "#2a3f5f"
          },
          "geo": {
           "bgcolor": "white",
           "lakecolor": "white",
           "landcolor": "#E5ECF6",
           "showlakes": true,
           "showland": true,
           "subunitcolor": "white"
          },
          "hoverlabel": {
           "align": "left"
          },
          "hovermode": "closest",
          "mapbox": {
           "style": "light"
          },
          "paper_bgcolor": "white",
          "plot_bgcolor": "#E5ECF6",
          "polar": {
           "angularaxis": {
            "gridcolor": "white",
            "linecolor": "white",
            "ticks": ""
           },
           "bgcolor": "#E5ECF6",
           "radialaxis": {
            "gridcolor": "white",
            "linecolor": "white",
            "ticks": ""
           }
          },
          "scene": {
           "xaxis": {
            "backgroundcolor": "#E5ECF6",
            "gridcolor": "white",
            "gridwidth": 2,
            "linecolor": "white",
            "showbackground": true,
            "ticks": "",
            "zerolinecolor": "white"
           },
           "yaxis": {
            "backgroundcolor": "#E5ECF6",
            "gridcolor": "white",
            "gridwidth": 2,
            "linecolor": "white",
            "showbackground": true,
            "ticks": "",
            "zerolinecolor": "white"
           },
           "zaxis": {
            "backgroundcolor": "#E5ECF6",
            "gridcolor": "white",
            "gridwidth": 2,
            "linecolor": "white",
            "showbackground": true,
            "ticks": "",
            "zerolinecolor": "white"
           }
          },
          "shapedefaults": {
           "line": {
            "color": "#2a3f5f"
           }
          },
          "ternary": {
           "aaxis": {
            "gridcolor": "white",
            "linecolor": "white",
            "ticks": ""
           },
           "baxis": {
            "gridcolor": "white",
            "linecolor": "white",
            "ticks": ""
           },
           "bgcolor": "#E5ECF6",
           "caxis": {
            "gridcolor": "white",
            "linecolor": "white",
            "ticks": ""
           }
          },
          "title": {
           "x": 0.05
          },
          "xaxis": {
           "automargin": true,
           "gridcolor": "white",
           "linecolor": "white",
           "ticks": "",
           "title": {
            "standoff": 15
           },
           "zerolinecolor": "white",
           "zerolinewidth": 2
          },
          "yaxis": {
           "automargin": true,
           "gridcolor": "white",
           "linecolor": "white",
           "ticks": "",
           "title": {
            "standoff": 15
           },
           "zerolinecolor": "white",
           "zerolinewidth": 2
          }
         }
        },
        "title": {
         "text": "Itinerary for `bachelorette party` in South Beach Miami, FL",
         "x": 0.5
        },
        "width": 1000
       }
      }
     },
     "metadata": {},
     "output_type": "display_data"
    }
   ],
   "source": [
    "import plotly.express as px\n",
    "import plotly.graph_objects as go\n",
    "\n",
    "assert len(itinerary_place_details) != 0, \"No places found in the itinerary\"\n",
    "assert len(nearby_place_details) != 0, \"No nearby places found\"\n",
    "\n",
    "# Create a map showing the places in the itinerary and nearby places\n",
    "print(\"Creating map...\")\n",
    "px.set_mapbox_access_token(MAPBOX_API_KEY)\n",
    "\n",
    "places_dfs = {}\n",
    "color = 0\n",
    "color_increment = 1.0 / len(itinerary_place_details)\n",
    "for name, place in itinerary_place_details:\n",
    "    color += color_increment\n",
    "    rows = [(place[\"name\"], *place[\"geometry\"][\"location\"].values(), color)]\n",
    "    max_clamp = min(MAX_NEARBY_PLACES, len(nearby_place_details.get(name, [])))\n",
    "    rows.extend(\n",
    "        [\n",
    "            (x[\"name\"], *x[\"geometry\"][\"location\"].values(), color)\n",
    "            for x in nearby_place_details.get(name, [])[:max_clamp]\n",
    "        ]\n",
    "    )\n",
    "    places_dfs[name] = pd.DataFrame(rows, columns=[\"name\", \"latitude\", \"longitude\", \"color\"])\n",
    "\n",
    "\n",
    "fig = go.Figure()\n",
    "\n",
    "for row in df.iterrows():\n",
    "    places_coords_df = places_dfs[row[1][LOCATION_COLUMN]]\n",
    "    trace_name = (\n",
    "        f\"Day {row[1][DAY_COLUMN]}: {row[1][ACTIVITY_TYPE_COLUMN]} at {row[1][LOCATION_COLUMN]}\"\n",
    "    )\n",
    "    fig.add_trace(\n",
    "        go.Scattermapbox(\n",
    "            lat=places_coords_df[\"latitude\"],\n",
    "            lon=places_coords_df[\"longitude\"],\n",
    "            mode=\"markers\",\n",
    "            marker=go.scattermapbox.Marker(\n",
    "                size=5, color=places_coords_df[\"color\"], colorscale=\"Rainbow\", cmin=0, cmax=1\n",
    "            ),\n",
    "            text=places_coords_df[\"name\"],\n",
    "            name=trace_name,\n",
    "        )\n",
    "    )\n",
    "\n",
    "fig.update_layout(\n",
    "    autosize=True,\n",
    "    hovermode=\"closest\",\n",
    "    mapbox=go.layout.Mapbox(\n",
    "        accesstoken=os.getenv(\"MAPBOX_API_KEY\"),\n",
    "        bearing=0,\n",
    "        center=go.layout.mapbox.Center(lat=city_coordinates[0], lon=city_coordinates[1]),\n",
    "        pitch=0,\n",
    "        zoom=12,\n",
    "    ),\n",
    "    height=800,\n",
    "    width=1000,\n",
    "    title_text=f\"Itinerary for `{inputs['group_type']}` in {inputs['location']}\",\n",
    "    title_x=0.5,\n",
    "    annotations=[\n",
    "        dict(\n",
    "            text=(\n",
    "                f\"Nearby {MAX_NEARBY_PLACES} places for \"\n",
    "                f\"`{keyword}` near the places for each itinerary\"\n",
    "            ),\n",
    "            showarrow=False,\n",
    "            xref=\"paper\",\n",
    "            yref=\"paper\",\n",
    "            x=0.5,\n",
    "            y=0.0,\n",
    "            xanchor=\"center\",\n",
    "            yanchor=\"top\",\n",
    "            font=dict(size=14, color=\"black\"),\n",
    "        )\n",
    "    ],\n",
    ")\n",
    "\n",
    "fig.show()"
   ]
  },
  {
   "cell_type": "code",
   "execution_count": null,
   "metadata": {},
   "outputs": [],
   "source": []
  }
 ],
 "metadata": {
  "colab": {
   "authorship_tag": "ABX9TyMA03IFWmqQKkWDwPiQuD4a",
   "provenance": [
    {
     "file_id": "1ew1f_XkMbNKy3rsJ9WuRr3vfsWskEU54",
     "timestamp": 1712353675429
    }
   ]
  },
  "kernelspec": {
   "display_name": "Python 3",
   "name": "python3"
  },
  "language_info": {
   "codemirror_mode": {
    "name": "ipython",
    "version": 3
   },
   "file_extension": ".py",
   "mimetype": "text/x-python",
   "name": "python",
   "nbconvert_exporter": "python",
   "pygments_lexer": "ipython3",
   "version": "3.11.6"
  }
 },
 "nbformat": 4,
 "nbformat_minor": 0
}
