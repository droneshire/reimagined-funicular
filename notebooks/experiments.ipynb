{
 "cells": [
  {
   "cell_type": "code",
   "execution_count": null,
   "metadata": {},
   "outputs": [],
   "source": [
    "import time\n",
    "\n",
    "start = time.time()"
   ]
  },
  {
   "cell_type": "code",
   "execution_count": null,
   "metadata": {},
   "outputs": [],
   "source": [
    "import json\n",
    "import os\n",
    "import sys\n",
    "import typing as T\n",
    "\n",
    "import dotenv\n",
    "import pandas as pd\n",
    "\n",
    "dotenv.load_dotenv()\n",
    "\n",
    "# Secrets\n",
    "GOOGLE_API_KEY = os.getenv(\"GOOGLE_PLACES_API_KEY\")\n",
    "assert GOOGLE_API_KEY is not None, \"GOOGLE_PLACES_API_KEY is not set in the `.env` file\"\n",
    "OPEN_AI_API_KEY = os.getenv(\"OPEN_AI_API_KEY\")\n",
    "assert OPEN_AI_API_KEY is not None, \"OPEN_AI_API_KEY is not set in the `.env` file\"\n",
    "MAPBOX_API_KEY = os.getenv(\"MAPBOX_API_KEY\")\n",
    "assert MAPBOX_API_KEY is not None, \"MAPBOX_API_KEY is not set in the `.env` file\"\n",
    "\n",
    "CURRENT_DIR = %pwd\n",
    "ROOT_DIR = os.path.dirname(CURRENT_DIR)\n",
    "SRC_DIR = os.path.join(ROOT_DIR, \"src\")\n",
    "\n",
    "sys.path.append(SRC_DIR)"
   ]
  },
  {
   "cell_type": "code",
   "execution_count": null,
   "metadata": {},
   "outputs": [],
   "source": [
    "from llm.defs import DAY_COLUMN, ACTIVITY_TYPE_COLUMN, LOCATION_COLUMN\n",
    "\n",
    "UI_INPUT = False"
   ]
  },
  {
   "cell_type": "code",
   "execution_count": null,
   "metadata": {},
   "outputs": [],
   "source": [
    "inputs = {\n",
    "    \"location\": \"South Beach Miami, FL\",\n",
    "    \"number_of_people\": 6,\n",
    "    \"date\": \"November 2026\",\n",
    "    \"duration_days\": 3,\n",
    "    \"group_type\": \"bachelorette party\",\n",
    "    \"description\": (\n",
    "        \"include boutique hotel options must 4 stars higher onsite spa beach clubs djs\"\n",
    "        \"day high end nightclubs list least six restaurant options dinner include least \"\n",
    "        \"one nice steakhouse one nice sushi restaurant\"\n",
    "    ),\n",
    "}"
   ]
  },
  {
   "cell_type": "code",
   "execution_count": null,
   "metadata": {},
   "outputs": [],
   "source": [
    "if UI_INPUT:\n",
    "    ##############################################################################\n",
    "    # Skip this block if you want to use the hard coded inputs\n",
    "    ##############################################################################\n",
    "    from input_ui import SimpleInputForm\n",
    "\n",
    "    form = SimpleInputForm()\n",
    "    form.setup()\n",
    "    inputs = form.run_form()"
   ]
  },
  {
   "cell_type": "code",
   "execution_count": null,
   "metadata": {},
   "outputs": [],
   "source": [
    "from llm.search import OpenAiSearch\n",
    "from llm.defs import ITINERARY_PROMPT_TEMPLATE, Itinerary\n",
    "\n",
    "llm = OpenAiSearch(OPEN_AI_API_KEY)\n",
    "output = llm.search(inputs, ITINERARY_PROMPT_TEMPLATE, Itinerary)\n",
    "\n",
    "print(output)\n",
    "\n",
    "input_tokens, output_tokens, total_tokens = llm.calculate_tokens(inputs, output)\n",
    "print(f\"Input Tokens: {input_tokens}\")\n",
    "print(f\"Output Tokens: {output_tokens}\")\n",
    "print(f\"Total Tokens: {total_tokens}\")"
   ]
  },
  {
   "cell_type": "code",
   "execution_count": null,
   "metadata": {},
   "outputs": [],
   "source": [
    "# Extract the itinerary content from the response\n",
    "df = pd.DataFrame(output)\n",
    "\n",
    "print(df)"
   ]
  },
  {
   "cell_type": "code",
   "execution_count": null,
   "metadata": {},
   "outputs": [],
   "source": [
    "# Inputs for the nearby lookup, if store_type is left as None, it will\n",
    "# default to match the type of the place that we are searching nearby from\n",
    "MAX_NEARBY_PLACES = 2\n",
    "radius_meters = 1500"
   ]
  },
  {
   "cell_type": "code",
   "execution_count": null,
   "metadata": {},
   "outputs": [],
   "source": [
    "from google.search import SearchPlaces\n",
    "\n",
    "search = SearchPlaces(GOOGLE_API_KEY, verbose=True)\n",
    "itinerary_place_details, nearby_place_details, city_coordinates, total_api_calls = search.search(\n",
    "    city=inputs[\"location\"],\n",
    "    itinerary=output,\n",
    "    radius_meters=radius_meters,\n",
    "    single_thread=True,\n",
    ")"
   ]
  },
  {
   "cell_type": "code",
   "execution_count": null,
   "metadata": {},
   "outputs": [],
   "source": [
    "df[\"place_id\"] = [item[\"id\"] for _, item in itinerary_place_details]\n",
    "print(df)\n",
    "\n",
    "print(f\"Num results: {len(itinerary_place_details)}\")\n",
    "print(f\"Total API calls: {total_api_calls}\")"
   ]
  },
  {
   "cell_type": "code",
   "execution_count": null,
   "metadata": {},
   "outputs": [],
   "source": [
    "for place, item in itinerary_place_details:\n",
    "    main_type = item.get(\"primaryType\", item.get(\"types\", [\"UNKNOWN\"])[0])\n",
    "    print(f\"{item['displayName']['text']}: {main_type}\")\n",
    "    nearby_names = [\n",
    "        f\"{i['displayName']['text']}: {i.get('primaryType', 'UNKNOWN')}\"\n",
    "        for i in nearby_place_details.get(place, [])\n",
    "    ]\n",
    "    for name in nearby_names:\n",
    "        print(f\"  - {name}\")\n",
    "\n",
    "with open(os.path.join(ROOT_DIR, \"places.json\"), \"w\", encoding=\"utf-8\") as outfile:\n",
    "    json.dump({\"results\": itinerary_place_details}, outfile, ensure_ascii=True, indent=4)\n",
    "with open(os.path.join(ROOT_DIR, \"nearby_places.json\"), \"w\", encoding=\"utf-8\") as outfile:\n",
    "    json.dump(nearby_place_details, outfile, ensure_ascii=True, indent=4)"
   ]
  },
  {
   "cell_type": "code",
   "execution_count": null,
   "metadata": {},
   "outputs": [],
   "source": []
  },
  {
   "cell_type": "code",
   "execution_count": null,
   "metadata": {},
   "outputs": [],
   "source": [
    "total_time = time.time() - start\n",
    "\n",
    "print(f\"Total time taken: {total_time:.2f} seconds\")"
   ]
  },
  {
   "cell_type": "code",
   "execution_count": null,
   "metadata": {},
   "outputs": [],
   "source": [
    "import plotly.express as px\n",
    "import plotly.graph_objects as go\n",
    "\n",
    "assert len(itinerary_place_details) != 0, \"No places found in the itinerary\"\n",
    "assert len(nearby_place_details) != 0, \"No nearby places found\"\n",
    "\n",
    "# Create a map showing the places in the itinerary and nearby places\n",
    "print(\"Creating map...\")\n",
    "px.set_mapbox_access_token(MAPBOX_API_KEY)\n",
    "\n",
    "places_dfs = {}\n",
    "color = 0\n",
    "color_increment = 1.0 / len(itinerary_place_details)\n",
    "for name, place in itinerary_place_details:\n",
    "    color += color_increment\n",
    "    rows = [(place[\"displayName\"][\"text\"], *place[\"location\"].values(), color)]\n",
    "    max_clamp = min(MAX_NEARBY_PLACES, len(nearby_place_details.get(name, [])))\n",
    "    rows.extend(\n",
    "        [\n",
    "            (x[\"displayName\"][\"text\"], *x[\"location\"].values(), color)\n",
    "            for x in nearby_place_details.get(name, [])[:max_clamp]\n",
    "        ]\n",
    "    )\n",
    "    places_dfs[name] = pd.DataFrame(rows, columns=[\"name\", \"latitude\", \"longitude\", \"color\"])\n",
    "\n",
    "\n",
    "fig = go.Figure()\n",
    "\n",
    "for row in df.iterrows():\n",
    "    places_coords_df = places_dfs[row[1][LOCATION_COLUMN]]\n",
    "    trace_name = (\n",
    "        f\"Day {row[1][DAY_COLUMN]}: {row[1][ACTIVITY_TYPE_COLUMN]} at {row[1][LOCATION_COLUMN]}\"\n",
    "    )\n",
    "    fig.add_trace(\n",
    "        go.Scattermapbox(\n",
    "            lat=places_coords_df[\"latitude\"],\n",
    "            lon=places_coords_df[\"longitude\"],\n",
    "            mode=\"markers\",\n",
    "            marker=go.scattermapbox.Marker(\n",
    "                size=5, color=places_coords_df[\"color\"], colorscale=\"Rainbow\", cmin=0, cmax=1\n",
    "            ),\n",
    "            text=places_coords_df[\"name\"],\n",
    "            name=trace_name,\n",
    "        )\n",
    "    )\n",
    "\n",
    "fig.update_layout(\n",
    "    autosize=True,\n",
    "    hovermode=\"closest\",\n",
    "    mapbox=go.layout.Mapbox(\n",
    "        accesstoken=os.getenv(\"MAPBOX_API_KEY\"),\n",
    "        bearing=0,\n",
    "        center=go.layout.mapbox.Center(lat=city_coordinates[\"lat\"], lon=city_coordinates[\"lng\"]),\n",
    "        pitch=0,\n",
    "        zoom=12,\n",
    "    ),\n",
    "    height=800,\n",
    "    width=1000,\n",
    "    title_text=f\"Itinerary for `{inputs['group_type']}` in {inputs['location']}\",\n",
    "    title_x=0.5,\n",
    "    annotations=[\n",
    "        dict(\n",
    "            text=(f\"Nearby {MAX_NEARBY_PLACES} places are shown for each itinerary location. \"),\n",
    "            showarrow=False,\n",
    "            xref=\"paper\",\n",
    "            yref=\"paper\",\n",
    "            x=0.5,\n",
    "            y=0.0,\n",
    "            xanchor=\"center\",\n",
    "            yanchor=\"top\",\n",
    "            font=dict(size=14, color=\"black\"),\n",
    "        )\n",
    "    ],\n",
    ")\n",
    "\n",
    "fig.show()"
   ]
  },
  {
   "cell_type": "code",
   "execution_count": null,
   "metadata": {},
   "outputs": [],
   "source": []
  }
 ],
 "metadata": {
  "colab": {
   "authorship_tag": "ABX9TyMA03IFWmqQKkWDwPiQuD4a",
   "provenance": [
    {
     "file_id": "1ew1f_XkMbNKy3rsJ9WuRr3vfsWskEU54",
     "timestamp": 1712353675429
    }
   ]
  },
  "kernelspec": {
   "display_name": "Python 3",
   "name": "python3"
  },
  "language_info": {
   "codemirror_mode": {
    "name": "ipython",
    "version": 3
   },
   "file_extension": ".py",
   "mimetype": "text/x-python",
   "name": "python",
   "nbconvert_exporter": "python",
   "pygments_lexer": "ipython3"
  }
 },
 "nbformat": 4,
 "nbformat_minor": 0
}
