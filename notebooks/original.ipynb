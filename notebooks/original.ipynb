{
 "cells": [
  {
   "cell_type": "code",
   "execution_count": null,
   "metadata": {
    "colab": {
     "base_uri": "https://localhost:8080/"
    },
    "executionInfo": {
     "elapsed": 6338,
     "status": "ok",
     "timestamp": 1711838159630,
     "user": {
      "displayName": "Aaron DeCoste",
      "userId": "09838251530013110066"
     },
     "user_tz": 240
    },
    "id": "TPN5d8ZduLLN",
    "outputId": "1f121cd2-1f4d-4fff-da45-90e1249a36ab"
   },
   "outputs": [
    {
     "name": "stderr",
     "output_type": "stream",
     "text": [
      "[nltk_data] Downloading package punkt to /root/nltk_data...\n",
      "[nltk_data]   Package punkt is already up-to-date!\n",
      "[nltk_data] Downloading package stopwords to /root/nltk_data...\n",
      "[nltk_data]   Package stopwords is already up-to-date!\n"
     ]
    },
    {
     "name": "stdout",
     "output_type": "stream",
     "text": [
      "Enter a string: A “3”  day  “bachelorette party” to “South Beach Miami, FL”  for “6” people in “November 2026” that enjoy “Include high-end boutique hotel options (must be 4 stars or higher) with onsite spa, beach clubs with DJs during the day, and high end nightclubs. List at least six restaurant options for dinner That include at least one nice steakhouse and one nice sushi restaurant.”\n",
      "Cleaned string: 3 day bachelorette party south beach miami fl 6 people november 2026 enjoy include boutique hotel options must 4 stars higher onsite spa beach clubs djs day high end nightclubs list least six restaurant options dinner include least one nice steakhouse one nice sushi restaurant\n"
     ]
    }
   ],
   "source": [
    "# Import necessary libraries\n",
    "import dotenv\n",
    "import nltk\n",
    "from nltk.corpus import stopwords\n",
    "from nltk.tokenize import word_tokenize\n",
    "\n",
    "# Download the necessary NLTK data\n",
    "nltk.download(\"punkt\")\n",
    "nltk.download(\"stopwords\")\n",
    "\n",
    "dotenv.load_dotenv()\n",
    "\n",
    "GOOGLE_API_KEY = os.getenv(\"GOOGLE_PLACES_API_KEY\")\n",
    "OPEN_AI_API_KEY = os.getenv(\"OPEN_AI_API_KEY\")\n",
    "\n",
    "\n",
    "# Function to remove stop words, punctuation, and double quotes\n",
    "def clean_text(text):\n",
    "    # Convert text to lowercase\n",
    "    text = text.lower()\n",
    "    # Remove double quotes\n",
    "    text = text.replace('\"', \"\")\n",
    "    # Tokenize the text into words\n",
    "    words = word_tokenize(text)\n",
    "    # Remove punctuation\n",
    "    words = [word for word in words if word.isalnum()]\n",
    "    # Remove stop words\n",
    "    stop_words = set(stopwords.words(\"english\"))\n",
    "    filtered_words = [word for word in words if word not in stop_words]\n",
    "    # Rejoin words into a single string\n",
    "    cleaned_text = \" \".join(filtered_words)\n",
    "    return cleaned_text\n",
    "\n",
    "\n",
    "# Prompt the user for a string\n",
    "user_input = input(\"Enter a string: \")\n",
    "# Clean the input string\n",
    "cleaned_text = clean_text(user_input)\n",
    "\n",
    "# Print the cleaned string\n",
    "print(\"Cleaned string:\", cleaned_text)"
   ]
  },
  {
   "cell_type": "code",
   "execution_count": null,
   "metadata": {
    "colab": {
     "base_uri": "https://localhost:8080/"
    },
    "executionInfo": {
     "elapsed": 2435,
     "status": "ok",
     "timestamp": 1711838165689,
     "user": {
      "displayName": "Aaron DeCoste",
      "userId": "09838251530013110066"
     },
     "user_tz": 240
    },
    "id": "N_qIxwmuFn4_",
    "outputId": "ad3575c2-4844-4ca5-d3a7-4e18d0202f51"
   },
   "outputs": [
    {
     "name": "stdout",
     "output_type": "stream",
     "text": [
      "ChatCompletion(id='chatcmpl-98batd5DUy5r2btwk3lU9EiVZMQnX', choices=[Choice(finish_reason='stop', index=0, logprobs=None, message=ChatCompletionMessage(content=\"Day 1:\\n- Breakfast: The Local House\\n- Morning Activity: South Beach kayak\\n- Lunch: Joe's Stone Crab\\n- Afternoon Activity: Miami Beach Boardwalk\\n- Dinner: Prime One Twelve\\n- Evening Activity: LIV\\n\\nDay 2:\\n- Breakfast: The Front Porch Cafe\\n- Morning Activity: Jet ski South Beach\\n- Lunch: Yardbird Southern Table & Bar\\n- Afternoon Activity: Lincoln Road Mall\\n- Dinner: Nobu\\n- Evening Activity: Story Nightclub\\n\\nDay 3:\\n- Breakfast: Big Pink\\n- Morning Activity: SoBe Boats\\n- Lunch: Hakkasan\\n- Afternoon Activity: Wynwood Walls\\n- Dinner: Smith & Wollensky\\n- Evening Activity: E11EVEN\", role='assistant', function_call=None, tool_calls=None))], created=1711838163, model='gpt-3.5-turbo-0125', object='chat.completion', system_fingerprint='fp_3bc1b5746c', usage=CompletionUsage(completion_tokens=159, prompt_tokens=102, total_tokens=261))\n",
      "Estimated total cost for 1000000 requests: $4437.00\n"
     ]
    }
   ],
   "source": [
    "from openai import OpenAI\n",
    "\n",
    "client = OpenAI(api_key=OPEN_AI_API_KEY)\n",
    "\n",
    "\n",
    "response = client.chat.completions.create(\n",
    "    model=\"gpt-3.5-turbo\",\n",
    "    messages=[\n",
    "        {\n",
    "            \"role\": \"user\",\n",
    "            \"content\": f\"Create an itinerary and provide only the names for places listed in google places for breakfast, morning activity, lunch, afternoon activity, dinner and evening activity (return only the day and the name): {cleaned_text}\",\n",
    "        }\n",
    "    ],\n",
    "    temperature=1,\n",
    "    max_tokens=256,\n",
    "    top_p=1,\n",
    "    frequency_penalty=0,\n",
    "    presence_penalty=0,\n",
    ")\n",
    "print(response)\n",
    "\n",
    "# Extract token usage from the response\n",
    "completion_tokens = response.usage.completion_tokens\n",
    "prompt_tokens = response.usage.prompt_tokens\n",
    "total_tokens = completion_tokens + prompt_tokens\n",
    "\n",
    "# Cost estimation for 1,000,000 requests\n",
    "total_requests = 1_000_000\n",
    "total_tokens_for_all_requests = total_tokens * total_requests\n",
    "\n",
    "training_cost_per_million_tokens = 8.00\n",
    "input_usage_cost_per_million_tokens = 3.00\n",
    "output_usage_cost_per_million_tokens = 6.00\n",
    "\n",
    "total_cost = (total_tokens_for_all_requests / 1_000_000) * (\n",
    "    training_cost_per_million_tokens\n",
    "    + input_usage_cost_per_million_tokens\n",
    "    + output_usage_cost_per_million_tokens\n",
    ")\n",
    "\n",
    "print(f\"Estimated total cost for {total_requests} requests: ${total_cost:.2f}\")"
   ]
  },
  {
   "cell_type": "code",
   "execution_count": null,
   "metadata": {
    "colab": {
     "base_uri": "https://localhost:8080/"
    },
    "executionInfo": {
     "elapsed": 195,
     "status": "ok",
     "timestamp": 1711838189641,
     "user": {
      "displayName": "Aaron DeCoste",
      "userId": "09838251530013110066"
     },
     "user_tz": 240
    },
    "id": "N8Ju7IitKKnS",
    "outputId": "bf8d8ee4-3349-42ec-c53a-8c4391bd8173"
   },
   "outputs": [
    {
     "name": "stdout",
     "output_type": "stream",
     "text": [
      "   Day         Activity Type                          Place\n",
      "0   1:           - Breakfast                The Local House\n",
      "1   1:    - Morning Activity              South Beach kayak\n",
      "2   1:               - Lunch               Joe's Stone Crab\n",
      "3   1:  - Afternoon Activity          Miami Beach Boardwalk\n",
      "4   1:              - Dinner               Prime One Twelve\n",
      "5   1:    - Evening Activity                            LIV\n",
      "6   2:           - Breakfast           The Front Porch Cafe\n",
      "7   2:    - Morning Activity            Jet ski South Beach\n",
      "8   2:               - Lunch  Yardbird Southern Table & Bar\n",
      "9   2:  - Afternoon Activity              Lincoln Road Mall\n",
      "10  2:              - Dinner                           Nobu\n",
      "11  2:    - Evening Activity                Story Nightclub\n",
      "12  3:           - Breakfast                       Big Pink\n",
      "13  3:    - Morning Activity                     SoBe Boats\n",
      "14  3:               - Lunch                       Hakkasan\n",
      "15  3:  - Afternoon Activity                  Wynwood Walls\n",
      "16  3:              - Dinner              Smith & Wollensky\n",
      "17  3:    - Evening Activity                        E11EVEN\n"
     ]
    }
   ],
   "source": [
    "import pandas as pd\n",
    "\n",
    "# Extract the itinerary content from the response\n",
    "itinerary_content = response.choices[0].message.content\n",
    "\n",
    "# Split the content into days and activities\n",
    "days = itinerary_content.split(\"\\n\\n\")\n",
    "data = []\n",
    "for day in days:\n",
    "    lines = day.split(\"\\n\")\n",
    "    day_number = lines[0].split(\" \")[1]\n",
    "    for line in lines[1:]:\n",
    "        activity_type, place = line.split(\": \")\n",
    "        data.append({\"Day\": day_number, \"Activity Type\": activity_type, \"Place\": place})\n",
    "\n",
    "# Create a DataFrame from the data\n",
    "df = pd.DataFrame(data)\n",
    "\n",
    "# Print the DataFrame\n",
    "print(df)"
   ]
  },
  {
   "cell_type": "code",
   "execution_count": null,
   "metadata": {
    "colab": {
     "base_uri": "https://localhost:8080/"
    },
    "executionInfo": {
     "elapsed": 9452,
     "status": "ok",
     "timestamp": 1711838207711,
     "user": {
      "displayName": "Aaron DeCoste",
      "userId": "09838251530013110066"
     },
     "user_tz": 240
    },
    "id": "DknkOdBADIYJ",
    "outputId": "c3719e92-6dcc-4f2a-c5ef-893ea2dca0c2"
   },
   "outputs": [
    {
     "name": "stdout",
     "output_type": "stream",
     "text": [
      "   Day         Activity Type                          Place  \\\n",
      "0   1:           - Breakfast                The Local House   \n",
      "1   1:    - Morning Activity              South Beach kayak   \n",
      "2   1:               - Lunch               Joe's Stone Crab   \n",
      "3   1:  - Afternoon Activity          Miami Beach Boardwalk   \n",
      "4   1:              - Dinner               Prime One Twelve   \n",
      "5   1:    - Evening Activity                            LIV   \n",
      "6   2:           - Breakfast           The Front Porch Cafe   \n",
      "7   2:    - Morning Activity            Jet ski South Beach   \n",
      "8   2:               - Lunch  Yardbird Southern Table & Bar   \n",
      "9   2:  - Afternoon Activity              Lincoln Road Mall   \n",
      "10  2:              - Dinner                           Nobu   \n",
      "11  2:    - Evening Activity                Story Nightclub   \n",
      "12  3:           - Breakfast                       Big Pink   \n",
      "13  3:    - Morning Activity                     SoBe Boats   \n",
      "14  3:               - Lunch                       Hakkasan   \n",
      "15  3:  - Afternoon Activity                  Wynwood Walls   \n",
      "16  3:              - Dinner              Smith & Wollensky   \n",
      "17  3:    - Evening Activity                        E11EVEN   \n",
      "\n",
      "                         Place Name                     Place ID  \n",
      "0                       Local House  ChIJ_wqgYvK02YgR2hA12ijkWTg  \n",
      "1    MB Kayak & Paddleboard Rentals  ChIJH9MOkwa12YgRieTwi3glNFk  \n",
      "2                  Joe's Stone Crab  ChIJ5VG2CfG02YgR9VoW1DWtf7w  \n",
      "3             Miami Beach Boardwalk  ChIJN-N0Smiz2YgR1bhFhFwX9GU  \n",
      "4              Prime 112 Restaurant  ChIJmRut8vG02YgR3f91Bk3Gxps  \n",
      "5               LIV Nightclub Miami  ChIJoWHkOGqz2YgRFI7KBOyVT80  \n",
      "6                  Front Porch Cafe  ChIJZ6hVRJC02YgRfJEJhvJda7o  \n",
      "7         Jet Ski Rental Miami Inc.  ChIJT8Ipy2-_YiERfYiXPYSr-7Y  \n",
      "8              Yardbird Table & Bar  ChIJYzGk04e02YgRoXmsaZCIoJ8  \n",
      "9                   Lincoln Rd Mall  ChIJLYr2t4W02YgREkpOuoFLf8A  \n",
      "10                       Nobu Miami  ChIJHSPojpy02YgRyKb7pE6DH-c  \n",
      "11                            STORY  ChIJQRnDgPG02YgR3phRlM77m0U  \n",
      "12                         Big Pink  ChIJX_TbJvK02YgROtsh5jIAT3E  \n",
      "13                             None                         None  \n",
      "14                   Hakkasan Miami  ChIJyx_vdWmz2YgRICz69WAhc-Q  \n",
      "15                    Wynwood Walls  ChIJ98BffLK22YgRsymdIvOgjNA  \n",
      "16  Smith & Wollensky - Miami Beach  ChIJE46rG_G02YgRgW4MGceL_ZU  \n",
      "17                          E11EVEN  ChIJZbR_3aO22YgROu6kdumheKA  \n"
     ]
    }
   ],
   "source": [
    "import pandas as pd\n",
    "import requests\n",
    "\n",
    "\n",
    "def search_google_places(place, location, api_key):\n",
    "    # Construct the URL for the Google Places API\n",
    "    base_url = \"https://maps.googleapis.com/maps/api/place/findplacefromtext/json\"\n",
    "    params = {\n",
    "        \"input\": place,\n",
    "        \"inputtype\": \"textquery\",\n",
    "        \"fields\": \"name,place_id\",\n",
    "        \"locationbias\": f\"point:{location}\",\n",
    "        \"key\": api_key,\n",
    "    }\n",
    "    # Make the API request\n",
    "    response = requests.get(base_url, params=params)\n",
    "    # Parse the response\n",
    "    if response.status_code == 200:\n",
    "        result = response.json()\n",
    "        if result.get(\"candidates\"):\n",
    "            return result[\"candidates\"][0][\"name\"], result[\"candidates\"][0][\"place_id\"]\n",
    "    return None, None\n",
    "\n",
    "\n",
    "# API key for Google Places API\n",
    "api_key = GOOGLE_API_KEY\n",
    "\n",
    "\n",
    "# Location for the search\n",
    "location = \"25.790654,-80.1300455\"  # Latitude and longitude for South Beach Miami, FL\n",
    "\n",
    "# Create new columns for place name and place ID\n",
    "df[\"Place Name\"] = \"\"\n",
    "df[\"Place ID\"] = \"\"\n",
    "\n",
    "# Iterate over the DataFrame and search for each place\n",
    "for index, row in df.iterrows():\n",
    "    place_name, place_id = search_google_places(row[\"Place\"], location, api_key)\n",
    "    df.at[index, \"Place Name\"] = place_name\n",
    "    df.at[index, \"Place ID\"] = place_id\n",
    "\n",
    "# Print the updated DataFrame\n",
    "print(df)"
   ]
  },
  {
   "cell_type": "code",
   "execution_count": null,
   "metadata": {
    "colab": {
     "base_uri": "https://localhost:8080/"
    },
    "executionInfo": {
     "elapsed": 6390,
     "status": "ok",
     "timestamp": 1711838219583,
     "user": {
      "displayName": "Aaron DeCoste",
      "userId": "09838251530013110066"
     },
     "user_tz": 240
    },
    "id": "j9yJTX4mYJzT",
    "outputId": "6c58c8be-a424-4190-e07e-c9fd5920c6a6"
   },
   "outputs": [
    {
     "name": "stdout",
     "output_type": "stream",
     "text": [
      "{'id': 'ChIJ_wqgYvK02YgR2hA12ijkWTg', 'formattedAddress': '400 Ocean Dr, Miami Beach, FL 33139, USA', 'location': {'latitude': 25.773442, 'longitude': -80.132473}, 'rating': 4.5, 'googleMapsUri': 'https://maps.google.com/?cid=4060527403161948378', 'websiteUri': 'http://www.localhouse.com/', 'businessStatus': 'OPERATIONAL', 'priceLevel': 'PRICE_LEVEL_MODERATE', 'userRatingCount': 1385, 'displayName': {'text': 'Local House', 'languageCode': 'en'}, 'primaryType': 'restaurant', 'editorialSummary': {'text': 'A seafood-focused menu & cocktails at this chic, ocean-themed eatery in the Sense Beach House Hotel.', 'languageCode': 'en'}, 'goodForChildren': True}\n",
      "{'id': 'ChIJH9MOkwa12YgRieTwi3glNFk', 'formattedAddress': '1416 18th St, Miami Beach, FL 33139, USA', 'location': {'latitude': 25.793411199999998, 'longitude': -80.1441268}, 'rating': 4.8, 'googleMapsUri': 'https://maps.google.com/?cid=6427803767838663817', 'websiteUri': 'https://www.mbwatersports.com/?utm_source=google&utm_medium=wix_google_business_profile&utm_campaign=44894002006156358', 'businessStatus': 'OPERATIONAL', 'userRatingCount': 101, 'displayName': {'text': 'MB Kayak & Paddleboard Rentals', 'languageCode': 'en'}}\n",
      "{'id': 'ChIJ5VG2CfG02YgR9VoW1DWtf7w', 'formattedAddress': '211 South Pointe Dr, Miami, FL 33131, USA', 'location': {'latitude': 25.7691561, 'longitude': -80.1351747}, 'rating': 4.4, 'googleMapsUri': 'https://maps.google.com/?cid=13582765447875812085', 'websiteUri': 'https://joesstonecrab.com/', 'businessStatus': 'OPERATIONAL', 'userRatingCount': 12, 'displayName': {'text': \"Joe's Stone Crab\", 'languageCode': 'en'}, 'primaryType': 'parking'}\n",
      "{'id': 'ChIJN-N0Smiz2YgR1bhFhFwX9GU', 'formattedAddress': 'Miami Beach Boardwalk, Miami Beach, FL 33140, USA', 'location': {'latitude': 25.8201212, 'longitude': -80.1208166}, 'rating': 4.7, 'googleMapsUri': 'https://maps.google.com/?cid=7346522578271713493', 'userRatingCount': 32, 'displayName': {'text': 'Miami Beach Boardwalk', 'languageCode': 'en'}}\n",
      "{'id': 'ChIJmRut8vG02YgR3f91Bk3Gxps', 'formattedAddress': '112 Ocean Dr, Miami Beach, FL 33139, USA', 'location': {'latitude': 25.76992, 'longitude': -80.13326699999999}, 'rating': 4.1, 'googleMapsUri': 'https://maps.google.com/?cid=11224877155390717917', 'websiteUri': 'http://mylesrestaurantgroup.com/', 'businessStatus': 'OPERATIONAL', 'priceLevel': 'PRICE_LEVEL_VERY_EXPENSIVE', 'userRatingCount': 2528, 'displayName': {'text': 'Prime 112 Restaurant', 'languageCode': 'en'}, 'primaryType': 'steak_house', 'editorialSummary': {'text': 'Sophisticated eatery with a contemporary vibe offering a menu of Italian seafood & grilled meat.', 'languageCode': 'en'}, 'goodForChildren': False}\n",
      "{'id': 'ChIJoWHkOGqz2YgRFI7KBOyVT80', 'formattedAddress': '4441 Collins Ave, Miami Beach, FL 33140, USA', 'location': {'latitude': 25.8178372, 'longitude': -80.1227119}, 'rating': 3.2, 'googleMapsUri': 'https://maps.google.com/?cid=14794208141860572692', 'websiteUri': 'http://www.livnightclub.com/', 'businessStatus': 'OPERATIONAL', 'priceLevel': 'PRICE_LEVEL_VERY_EXPENSIVE', 'userRatingCount': 1375, 'displayName': {'text': 'LIV Nightclub Miami', 'languageCode': 'en'}, 'primaryType': 'night_club', 'editorialSummary': {'text': 'Trendy, opulent Fontainebleau Hotel club where DJs spin at parties that attract celebs & VIPs.', 'languageCode': 'en'}}\n",
      "{'id': 'ChIJZ6hVRJC02YgRfJEJhvJda7o', 'formattedAddress': '1458 Ocean Dr, Miami Beach, FL 33139, USA', 'location': {'latitude': 25.787127899999998, 'longitude': -80.1297932}, 'rating': 4.3, 'googleMapsUri': 'https://maps.google.com/?cid=13432933609774879100', 'websiteUri': 'http://www.frontporchoceandrive.com/', 'businessStatus': 'OPERATIONAL', 'priceLevel': 'PRICE_LEVEL_MODERATE', 'userRatingCount': 3200, 'displayName': {'text': 'Front Porch Cafe', 'languageCode': 'en'}, 'primaryType': 'american_restaurant', 'editorialSummary': {'text': 'Stylish, trendy destination eatery featuring breakfast all day, jumbo portions & daily happy hour.', 'languageCode': 'en'}, 'goodForChildren': True}\n",
      "{'id': 'ChIJT8Ipy2-_YiERfYiXPYSr-7Y', 'formattedAddress': '22 16th St, Miami Beach, FL 33139, USA', 'location': {'latitude': 25.7890953, 'longitude': -80.129972}, 'rating': 5, 'googleMapsUri': 'https://maps.google.com/?cid=13185320918514632829', 'businessStatus': 'OPERATIONAL', 'userRatingCount': 2, 'displayName': {'text': 'Jet Ski Rental Miami Inc.', 'languageCode': 'en'}}\n",
      "{'id': 'ChIJYzGk04e02YgRoXmsaZCIoJ8', 'formattedAddress': '1600 Lenox Ave., Miami Beach, FL 33139, USA', 'location': {'latitude': 25.7890685, 'longitude': -80.14015789999999}, 'rating': 4.6, 'googleMapsUri': 'https://maps.google.com/?cid=11502343602133825953', 'websiteUri': 'https://www.runchickenrun.com/?utm_source=google&utm_medium=Yext', 'businessStatus': 'OPERATIONAL', 'priceLevel': 'PRICE_LEVEL_EXPENSIVE', 'userRatingCount': 5973, 'displayName': {'text': 'Yardbird Table & Bar', 'languageCode': 'en'}, 'primaryType': 'restaurant', 'editorialSummary': {'text': 'Rustic outpost with a patio attracting foodies with inventive Southern comfort food and bourbon bar.', 'languageCode': 'en'}, 'goodForChildren': True}\n",
      "{'id': 'ChIJLYr2t4W02YgREkpOuoFLf8A', 'formattedAddress': 'Lincoln Rd Mall, Miami Beach, FL 33139, USA', 'location': {'latitude': 25.7906517, 'longitude': -80.136576}, 'googleMapsUri': 'https://maps.google.com/?cid=13870888397872974354', 'displayName': {'text': 'Lincoln Road Mall', 'languageCode': 'en'}}\n",
      "{'id': 'ChIJHSPojpy02YgRyKb7pE6DH-c', 'formattedAddress': '4525 Collins Ave, Miami Beach, FL 33140, USA', 'location': {'latitude': 25.819636, 'longitude': -80.1218825}, 'rating': 3.9, 'googleMapsUri': 'https://maps.google.com/?cid=16654174320838026952', 'websiteUri': 'https://www.noburestaurants.com/miami/home/?utm_source=google&utm_medium=Yext', 'businessStatus': 'OPERATIONAL', 'priceLevel': 'PRICE_LEVEL_VERY_EXPENSIVE', 'userRatingCount': 1180, 'displayName': {'text': 'Nobu Miami', 'languageCode': 'en'}, 'primaryType': 'restaurant', 'editorialSummary': {'text': 'Nobu Matsuhisa delivers upscale sushi & Japanese-Peruvian fusion fare amid luxurious, elegant decor.', 'languageCode': 'en'}, 'goodForChildren': False}\n",
      "{'id': 'ChIJQRnDgPG02YgR3phRlM77m0U', 'formattedAddress': '136 Collins Ave, Miami Beach, FL 33139, USA', 'location': {'latitude': 25.770552799999997, 'longitude': -80.1340421}, 'rating': 3, 'googleMapsUri': 'https://maps.google.com/?cid=5015879474677389534', 'websiteUri': 'http://www.storymiami.com/', 'businessStatus': 'CLOSED_PERMANENTLY', 'priceLevel': 'PRICE_LEVEL_EXPENSIVE', 'userRatingCount': 816, 'displayName': {'text': 'STORY', 'languageCode': 'en'}, 'primaryType': 'night_club', 'editorialSummary': {'text': 'Sprawling neon-lit nightclub offering 5 bars & bottle service, plus a dance floor & DJ music.', 'languageCode': 'en'}}\n",
      "{'id': 'ChIJX_TbJvK02YgROtsh5jIAT3E', 'formattedAddress': '157 Collins Ave, Miami Beach, FL 33139, USA', 'location': {'latitude': 25.770822799999998, 'longitude': -80.1336549}, 'rating': 4.3, 'googleMapsUri': 'https://maps.google.com/?cid=8164744868055341882', 'websiteUri': 'https://mylesrestaurantgroup.com/', 'businessStatus': 'OPERATIONAL', 'priceLevel': 'PRICE_LEVEL_MODERATE', 'userRatingCount': 7074, 'displayName': {'text': 'Big Pink', 'languageCode': 'en'}, 'primaryType': 'american_restaurant', 'editorialSummary': {'text': \"Retro hangout with late-night hours offering an extensive comfort food menu, including 'TV dinner' special.\", 'languageCode': 'en'}, 'goodForChildren': True}\n",
      "Failed to fetch details for place with ID: None\n",
      "{'id': 'ChIJyx_vdWmz2YgRICz69WAhc-Q', 'formattedAddress': '4441 Collins Ave, Miami Beach, FL 33140, USA', 'location': {'latitude': 25.818015600000003, 'longitude': -80.1218088}, 'rating': 4.4, 'googleMapsUri': 'https://maps.google.com/?cid=16461537763296685088', 'websiteUri': 'https://bit.ly/37RG1Nm', 'businessStatus': 'OPERATIONAL', 'priceLevel': 'PRICE_LEVEL_VERY_EXPENSIVE', 'userRatingCount': 868, 'displayName': {'text': 'Hakkasan Miami', 'languageCode': 'en'}, 'primaryType': 'chinese_restaurant', 'editorialSummary': {'text': 'Chic, exotic restaurant at the Fontainebleau Hotel serving modern Cantonese fare & weekend dim sum.', 'languageCode': 'en'}, 'goodForChildren': False}\n",
      "{'id': 'ChIJ98BffLK22YgRsymdIvOgjNA', 'formattedAddress': '2516 NW 2nd Ave, Miami, FL 33127, USA', 'location': {'latitude': 25.8010178, 'longitude': -80.1993841}, 'rating': 4.7, 'googleMapsUri': 'https://maps.google.com/?cid=15027563022746724787', 'businessStatus': 'OPERATIONAL', 'userRatingCount': 42219, 'displayName': {'text': 'Wynwood Walls', 'languageCode': 'en'}, 'primaryType': 'museum', 'editorialSummary': {'text': 'Unique outdoor destination featuring huge, colorful street murals by artists from around the globe.', 'languageCode': 'en'}, 'goodForChildren': True}\n",
      "{'id': 'ChIJE46rG_G02YgRgW4MGceL_ZU', 'formattedAddress': '1 Washington Ave, Miami Beach, FL 33139, USA', 'location': {'latitude': 25.76594, 'longitude': -80.13389649999999}, 'rating': 4.4, 'googleMapsUri': 'https://maps.google.com/?cid=10807948367994056321', 'websiteUri': 'https://www.smithandwollensky.com/locations/miami-beach/', 'businessStatus': 'OPERATIONAL', 'priceLevel': 'PRICE_LEVEL_VERY_EXPENSIVE', 'userRatingCount': 5130, 'displayName': {'text': 'Smith & Wollensky - Miami Beach', 'languageCode': 'en'}, 'primaryType': 'steak_house', 'editorialSummary': {'text': 'Steakhouse chain outpost serving prime, dry-aged steaks, seafood & wine in a power-dining setting.', 'languageCode': 'en'}, 'goodForChildren': False}\n",
      "{'id': 'ChIJZbR_3aO22YgROu6kdumheKA', 'formattedAddress': '29 NE 11th St, Miami, FL 33132, USA', 'location': {'latitude': 25.784980400000002, 'longitude': -80.19359299999999}, 'rating': 3.5, 'googleMapsUri': 'https://maps.google.com/?cid=11563170067363720762', 'websiteUri': 'https://www.11miami.com/', 'businessStatus': 'OPERATIONAL', 'priceLevel': 'PRICE_LEVEL_EXPENSIVE', 'userRatingCount': 1434, 'displayName': {'text': 'E11EVEN', 'languageCode': 'en'}, 'primaryType': 'night_club', 'editorialSummary': {'text': 'Energetic, neon-lit night spot with trapeze dancers, burlesque shows, DJs & live music performances.', 'languageCode': 'en'}}\n"
     ]
    }
   ],
   "source": [
    "import requests\n",
    "import pandas as pd\n",
    "\n",
    "# Assuming `df` is your DataFrame with 'Place Name' and 'Place ID' columns\n",
    "url_template = \"https://places.googleapis.com/v1/places/{}/?fields=id,displayName,location,primaryType,editorialSummary,websiteUri,googleMapsUri,formattedAddress,businessStatus,userRatingCount,priceLevel,rating,goodForChildren&key={api_key}\"\n",
    "\n",
    "\n",
    "def fetch_place_details(place_id):\n",
    "    url = url_template.format(place_id)\n",
    "    response = requests.get(url)\n",
    "    if response.status_code == 200:\n",
    "        return response.json()\n",
    "    else:\n",
    "        return None\n",
    "\n",
    "\n",
    "# Iterate over each row in the DataFrame and fetch place details\n",
    "for index, row in df.iterrows():\n",
    "    place_id = row[\"Place ID\"]  # Corrected column name\n",
    "    place_details = fetch_place_details(place_id)\n",
    "    if place_details:\n",
    "        # Process the JSON data as needed, for example, you can print it\n",
    "        print(place_details)\n",
    "    else:\n",
    "        print(f\"Failed to fetch details for place with ID: {place_id}\")"
   ]
  },
  {
   "cell_type": "code",
   "execution_count": null,
   "metadata": {
    "colab": {
     "base_uri": "https://localhost:8080/",
     "height": 1000
    },
    "executionInfo": {
     "elapsed": 18789,
     "status": "error",
     "timestamp": 1711838341101,
     "user": {
      "displayName": "Aaron DeCoste",
      "userId": "09838251530013110066"
     },
     "user_tz": 240
    },
    "id": "pzqaoLNggp2_",
    "outputId": "9237e718-0e99-4d2b-8e55-b0ed4c702665"
   },
   "outputs": [
    {
     "name": "stdout",
     "output_type": "stream",
     "text": [
      "Original Place ID: ChIJ_wqgYvK02YgR2hA12ijkWTg\n",
      "Nearby Breakfast Place: FL Cafe\n",
      "Place ID: ChIJb26IMpC02YgRUYzD8m8UaW4\n",
      "{'id': 'ChIJb26IMpC02YgRUYzD8m8UaW4', 'formattedAddress': '1360 Collins Ave, Miami Beach, FL 33139, USA', 'location': {'latitude': 25.785175600000002, 'longitude': -80.1309744}, 'rating': 4.3, 'googleMapsUri': 'https://maps.google.com/?cid=7955912687773518929', 'websiteUri': 'https://www.flcafemiamibeach.com/', 'businessStatus': 'OPERATIONAL', 'priceLevel': 'PRICE_LEVEL_MODERATE', 'userRatingCount': 1409, 'displayName': {'text': 'FL Cafe', 'languageCode': 'en'}, 'primaryType': 'american_restaurant', 'editorialSummary': {'text': 'Contemporary bistro offering elevated American, French, Italian, and Latin-style dishes, plus a roomy patio.', 'languageCode': 'en'}, 'goodForChildren': True}\n",
      "Nearby Breakfast Place: Cafe Americano\n",
      "Place ID: ChIJc1v3bsG12YgRdZ0BHwmlkUU\n",
      "{'id': 'ChIJc1v3bsG12YgRdZ0BHwmlkUU', 'formattedAddress': '1144 Ocean Dr, Miami Beach, FL 33139, USA', 'location': {'latitude': 25.7825034, 'longitude': -80.130515}, 'rating': 4.8, 'googleMapsUri': 'https://maps.google.com/?cid=5012969318833560949', 'websiteUri': 'https://www.cafeamericano.com/ocean-drive/', 'businessStatus': 'OPERATIONAL', 'priceLevel': 'PRICE_LEVEL_MODERATE', 'userRatingCount': 4045, 'displayName': {'text': 'Cafe Americano', 'languageCode': 'en'}, 'primaryType': 'american_restaurant', 'editorialSummary': {'text': 'Cool, Latin-inflected all-day diner in Hotel Victor South Beach with cocktails and a lively patio.', 'languageCode': 'en'}, 'goodForChildren': True}\n",
      "Original Place ID: ChIJH9MOkwa12YgRieTwi3glNFk\n",
      "Nearby Breakfast Place: FL Cafe\n",
      "Place ID: ChIJb26IMpC02YgRUYzD8m8UaW4\n",
      "{'id': 'ChIJb26IMpC02YgRUYzD8m8UaW4', 'formattedAddress': '1360 Collins Ave, Miami Beach, FL 33139, USA', 'location': {'latitude': 25.785175600000002, 'longitude': -80.1309744}, 'rating': 4.3, 'googleMapsUri': 'https://maps.google.com/?cid=7955912687773518929', 'websiteUri': 'https://www.flcafemiamibeach.com/', 'businessStatus': 'OPERATIONAL', 'priceLevel': 'PRICE_LEVEL_MODERATE', 'userRatingCount': 1409, 'displayName': {'text': 'FL Cafe', 'languageCode': 'en'}, 'primaryType': 'american_restaurant', 'editorialSummary': {'text': 'Contemporary bistro offering elevated American, French, Italian, and Latin-style dishes, plus a roomy patio.', 'languageCode': 'en'}, 'goodForChildren': True}\n",
      "Nearby Breakfast Place: Front Porch Cafe\n",
      "Place ID: ChIJZ6hVRJC02YgRfJEJhvJda7o\n",
      "{'id': 'ChIJZ6hVRJC02YgRfJEJhvJda7o', 'formattedAddress': '1458 Ocean Dr, Miami Beach, FL 33139, USA', 'location': {'latitude': 25.787127899999998, 'longitude': -80.1297932}, 'rating': 4.3, 'googleMapsUri': 'https://maps.google.com/?cid=13432933609774879100', 'websiteUri': 'http://www.frontporchoceandrive.com/', 'businessStatus': 'OPERATIONAL', 'priceLevel': 'PRICE_LEVEL_MODERATE', 'userRatingCount': 3200, 'displayName': {'text': 'Front Porch Cafe', 'languageCode': 'en'}, 'primaryType': 'american_restaurant', 'editorialSummary': {'text': 'Stylish, trendy destination eatery featuring breakfast all day, jumbo portions & daily happy hour.', 'languageCode': 'en'}, 'goodForChildren': True}\n",
      "Original Place ID: ChIJ5VG2CfG02YgR9VoW1DWtf7w\n",
      "Nearby Breakfast Place: Cafe Americano\n",
      "Place ID: ChIJc1v3bsG12YgRdZ0BHwmlkUU\n",
      "{'id': 'ChIJc1v3bsG12YgRdZ0BHwmlkUU', 'formattedAddress': '1144 Ocean Dr, Miami Beach, FL 33139, USA', 'location': {'latitude': 25.7825034, 'longitude': -80.130515}, 'rating': 4.8, 'googleMapsUri': 'https://maps.google.com/?cid=5012969318833560949', 'websiteUri': 'https://www.cafeamericano.com/ocean-drive/', 'businessStatus': 'OPERATIONAL', 'priceLevel': 'PRICE_LEVEL_MODERATE', 'userRatingCount': 4045, 'displayName': {'text': 'Cafe Americano', 'languageCode': 'en'}, 'primaryType': 'american_restaurant', 'editorialSummary': {'text': 'Cool, Latin-inflected all-day diner in Hotel Victor South Beach with cocktails and a lively patio.', 'languageCode': 'en'}, 'goodForChildren': True}\n",
      "Nearby Breakfast Place: 11th Street Diner\n",
      "Place ID: ChIJjcZn-4202YgRSovwaAp5pPE\n",
      "{'id': 'ChIJjcZn-4202YgRSovwaAp5pPE', 'formattedAddress': '1065 Washington Ave, Miami Beach, FL 33139, USA', 'location': {'latitude': 25.7817989, 'longitude': -80.13225969999999}, 'rating': 4.5, 'googleMapsUri': 'https://maps.google.com/?cid=17412175144938408778', 'websiteUri': 'https://eleventhstreetdiner.com/?utm_source=gmb&utm_medium=organic&utm_campaign=google_my_business_visitors', 'businessStatus': 'OPERATIONAL', 'priceLevel': 'PRICE_LEVEL_MODERATE', 'userRatingCount': 6701, 'displayName': {'text': '11th Street Diner', 'languageCode': 'en'}, 'primaryType': 'restaurant', 'editorialSummary': {'text': 'Retro diner housed in a railroad-style car with all-day breakfast & American eats, plus cocktails.', 'languageCode': 'en'}, 'goodForChildren': True}\n",
      "Original Place ID: ChIJN-N0Smiz2YgR1bhFhFwX9GU\n",
      "Nearby Breakfast Place: Paradise Cafe\n",
      "Place ID: ChIJlxgakLSz2YgRCfvb8e9MN8k\n",
      "{'id': 'ChIJlxgakLSz2YgRCfvb8e9MN8k', 'formattedAddress': '4333 Collins Ave, Miami Beach, FL 33140, USA', 'location': {'latitude': 25.8151805, 'longitude': -80.12217919999999}, 'rating': 3.2, 'googleMapsUri': 'https://maps.google.com/?cid=14499142118781221641', 'businessStatus': 'OPERATIONAL', 'userRatingCount': 34, 'displayName': {'text': 'Paradise Cafe', 'languageCode': 'en'}, 'primaryType': 'restaurant', 'goodForChildren': True}\n",
      "Nearby Breakfast Place: The Tavern\n",
      "Place ID: ChIJ9X7aKWaz2YgR2SpQuFesw7k\n",
      "{'id': 'ChIJ9X7aKWaz2YgR2SpQuFesw7k', 'formattedAddress': '3720 Collins Ave Lobby, Miami Beach, FL 33140, USA', 'location': {'latitude': 25.810889000000003, 'longitude': -80.123506}, 'rating': 4, 'googleMapsUri': 'https://maps.google.com/?cid=13385732010229639897', 'websiteUri': 'https://hotelcroydonmiamibeach.com/thetavern/', 'businessStatus': 'OPERATIONAL', 'priceLevel': 'PRICE_LEVEL_MODERATE', 'userRatingCount': 4090, 'displayName': {'text': 'The Tavern', 'languageCode': 'en'}, 'primaryType': 'american_restaurant', 'editorialSummary': {'text': 'Design-savvy eatery offering American breakfast, lunch, and dinner staples with drinks.', 'languageCode': 'en'}, 'goodForChildren': True}\n",
      "Original Place ID: ChIJmRut8vG02YgR3f91Bk3Gxps\n",
      "Nearby Breakfast Place: FL Cafe\n",
      "Place ID: ChIJb26IMpC02YgRUYzD8m8UaW4\n",
      "{'id': 'ChIJb26IMpC02YgRUYzD8m8UaW4', 'formattedAddress': '1360 Collins Ave, Miami Beach, FL 33139, USA', 'location': {'latitude': 25.785175600000002, 'longitude': -80.1309744}, 'rating': 4.3, 'googleMapsUri': 'https://maps.google.com/?cid=7955912687773518929', 'websiteUri': 'https://www.flcafemiamibeach.com/', 'businessStatus': 'OPERATIONAL', 'priceLevel': 'PRICE_LEVEL_MODERATE', 'userRatingCount': 1409, 'displayName': {'text': 'FL Cafe', 'languageCode': 'en'}, 'primaryType': 'american_restaurant', 'editorialSummary': {'text': 'Contemporary bistro offering elevated American, French, Italian, and Latin-style dishes, plus a roomy patio.', 'languageCode': 'en'}, 'goodForChildren': True}\n",
      "Nearby Breakfast Place: Cafe Americano\n",
      "Place ID: ChIJc1v3bsG12YgRdZ0BHwmlkUU\n",
      "{'id': 'ChIJc1v3bsG12YgRdZ0BHwmlkUU', 'formattedAddress': '1144 Ocean Dr, Miami Beach, FL 33139, USA', 'location': {'latitude': 25.7825034, 'longitude': -80.130515}, 'rating': 4.8, 'googleMapsUri': 'https://maps.google.com/?cid=5012969318833560949', 'websiteUri': 'https://www.cafeamericano.com/ocean-drive/', 'businessStatus': 'OPERATIONAL', 'priceLevel': 'PRICE_LEVEL_MODERATE', 'userRatingCount': 4045, 'displayName': {'text': 'Cafe Americano', 'languageCode': 'en'}, 'primaryType': 'american_restaurant', 'editorialSummary': {'text': 'Cool, Latin-inflected all-day diner in Hotel Victor South Beach with cocktails and a lively patio.', 'languageCode': 'en'}, 'goodForChildren': True}\n",
      "Original Place ID: ChIJoWHkOGqz2YgRFI7KBOyVT80\n",
      "Nearby Breakfast Place: Tropical Beach Cafe\n",
      "Place ID: ChIJed19azmz2YgR7D2t0z8I6_0\n",
      "{'id': 'ChIJed19azmz2YgR7D2t0z8I6_0', 'formattedAddress': '2891 Collins Ave, Miami Beach, FL 33140, USA', 'location': {'latitude': 25.8043655, 'longitude': -80.1251857}, 'rating': 4, 'googleMapsUri': 'https://maps.google.com/?cid=18296726981350079980', 'businessStatus': 'OPERATIONAL', 'userRatingCount': 116, 'displayName': {'text': 'Tropical Beach Cafe', 'languageCode': 'en'}, 'primaryType': 'restaurant', 'goodForChildren': True}\n",
      "Nearby Breakfast Place: Paradise Cafe\n",
      "Place ID: ChIJlxgakLSz2YgRCfvb8e9MN8k\n",
      "{'id': 'ChIJlxgakLSz2YgRCfvb8e9MN8k', 'formattedAddress': '4333 Collins Ave, Miami Beach, FL 33140, USA', 'location': {'latitude': 25.8151805, 'longitude': -80.12217919999999}, 'rating': 3.2, 'googleMapsUri': 'https://maps.google.com/?cid=14499142118781221641', 'businessStatus': 'OPERATIONAL', 'userRatingCount': 34, 'displayName': {'text': 'Paradise Cafe', 'languageCode': 'en'}, 'primaryType': 'restaurant', 'goodForChildren': True}\n",
      "Original Place ID: ChIJZ6hVRJC02YgRfJEJhvJda7o\n",
      "Nearby Breakfast Place: FL Cafe\n",
      "Place ID: ChIJb26IMpC02YgRUYzD8m8UaW4\n",
      "{'id': 'ChIJb26IMpC02YgRUYzD8m8UaW4', 'formattedAddress': '1360 Collins Ave, Miami Beach, FL 33139, USA', 'location': {'latitude': 25.785175600000002, 'longitude': -80.1309744}, 'rating': 4.3, 'googleMapsUri': 'https://maps.google.com/?cid=7955912687773518929', 'websiteUri': 'https://www.flcafemiamibeach.com/', 'businessStatus': 'OPERATIONAL', 'priceLevel': 'PRICE_LEVEL_MODERATE', 'userRatingCount': 1409, 'displayName': {'text': 'FL Cafe', 'languageCode': 'en'}, 'primaryType': 'american_restaurant', 'editorialSummary': {'text': 'Contemporary bistro offering elevated American, French, Italian, and Latin-style dishes, plus a roomy patio.', 'languageCode': 'en'}, 'goodForChildren': True}\n",
      "Nearby Breakfast Place: Cafe Americano\n",
      "Place ID: ChIJc1v3bsG12YgRdZ0BHwmlkUU\n",
      "{'id': 'ChIJc1v3bsG12YgRdZ0BHwmlkUU', 'formattedAddress': '1144 Ocean Dr, Miami Beach, FL 33139, USA', 'location': {'latitude': 25.7825034, 'longitude': -80.130515}, 'rating': 4.8, 'googleMapsUri': 'https://maps.google.com/?cid=5012969318833560949', 'websiteUri': 'https://www.cafeamericano.com/ocean-drive/', 'businessStatus': 'OPERATIONAL', 'priceLevel': 'PRICE_LEVEL_MODERATE', 'userRatingCount': 4045, 'displayName': {'text': 'Cafe Americano', 'languageCode': 'en'}, 'primaryType': 'american_restaurant', 'editorialSummary': {'text': 'Cool, Latin-inflected all-day diner in Hotel Victor South Beach with cocktails and a lively patio.', 'languageCode': 'en'}, 'goodForChildren': True}\n",
      "Original Place ID: ChIJT8Ipy2-_YiERfYiXPYSr-7Y\n",
      "Nearby Breakfast Place: FL Cafe\n",
      "Place ID: ChIJb26IMpC02YgRUYzD8m8UaW4\n",
      "{'id': 'ChIJb26IMpC02YgRUYzD8m8UaW4', 'formattedAddress': '1360 Collins Ave, Miami Beach, FL 33139, USA', 'location': {'latitude': 25.785175600000002, 'longitude': -80.1309744}, 'rating': 4.3, 'googleMapsUri': 'https://maps.google.com/?cid=7955912687773518929', 'websiteUri': 'https://www.flcafemiamibeach.com/', 'businessStatus': 'OPERATIONAL', 'priceLevel': 'PRICE_LEVEL_MODERATE', 'userRatingCount': 1409, 'displayName': {'text': 'FL Cafe', 'languageCode': 'en'}, 'primaryType': 'american_restaurant', 'editorialSummary': {'text': 'Contemporary bistro offering elevated American, French, Italian, and Latin-style dishes, plus a roomy patio.', 'languageCode': 'en'}, 'goodForChildren': True}\n",
      "Nearby Breakfast Place: Front Porch Cafe\n",
      "Place ID: ChIJZ6hVRJC02YgRfJEJhvJda7o\n",
      "{'id': 'ChIJZ6hVRJC02YgRfJEJhvJda7o', 'formattedAddress': '1458 Ocean Dr, Miami Beach, FL 33139, USA', 'location': {'latitude': 25.787127899999998, 'longitude': -80.1297932}, 'rating': 4.3, 'googleMapsUri': 'https://maps.google.com/?cid=13432933609774879100', 'websiteUri': 'http://www.frontporchoceandrive.com/', 'businessStatus': 'OPERATIONAL', 'priceLevel': 'PRICE_LEVEL_MODERATE', 'userRatingCount': 3200, 'displayName': {'text': 'Front Porch Cafe', 'languageCode': 'en'}, 'primaryType': 'american_restaurant', 'editorialSummary': {'text': 'Stylish, trendy destination eatery featuring breakfast all day, jumbo portions & daily happy hour.', 'languageCode': 'en'}, 'goodForChildren': True}\n",
      "Original Place ID: ChIJYzGk04e02YgRoXmsaZCIoJ8\n",
      "Nearby Breakfast Place: FL Cafe\n",
      "Place ID: ChIJb26IMpC02YgRUYzD8m8UaW4\n",
      "{'id': 'ChIJb26IMpC02YgRUYzD8m8UaW4', 'formattedAddress': '1360 Collins Ave, Miami Beach, FL 33139, USA', 'location': {'latitude': 25.785175600000002, 'longitude': -80.1309744}, 'rating': 4.3, 'googleMapsUri': 'https://maps.google.com/?cid=7955912687773518929', 'websiteUri': 'https://www.flcafemiamibeach.com/', 'businessStatus': 'OPERATIONAL', 'priceLevel': 'PRICE_LEVEL_MODERATE', 'userRatingCount': 1409, 'displayName': {'text': 'FL Cafe', 'languageCode': 'en'}, 'primaryType': 'american_restaurant', 'editorialSummary': {'text': 'Contemporary bistro offering elevated American, French, Italian, and Latin-style dishes, plus a roomy patio.', 'languageCode': 'en'}, 'goodForChildren': True}\n",
      "Nearby Breakfast Place: Cafe Americano\n",
      "Place ID: ChIJc1v3bsG12YgRdZ0BHwmlkUU\n",
      "{'id': 'ChIJc1v3bsG12YgRdZ0BHwmlkUU', 'formattedAddress': '1144 Ocean Dr, Miami Beach, FL 33139, USA', 'location': {'latitude': 25.7825034, 'longitude': -80.130515}, 'rating': 4.8, 'googleMapsUri': 'https://maps.google.com/?cid=5012969318833560949', 'websiteUri': 'https://www.cafeamericano.com/ocean-drive/', 'businessStatus': 'OPERATIONAL', 'priceLevel': 'PRICE_LEVEL_MODERATE', 'userRatingCount': 4045, 'displayName': {'text': 'Cafe Americano', 'languageCode': 'en'}, 'primaryType': 'american_restaurant', 'editorialSummary': {'text': 'Cool, Latin-inflected all-day diner in Hotel Victor South Beach with cocktails and a lively patio.', 'languageCode': 'en'}, 'goodForChildren': True}\n",
      "Original Place ID: ChIJLYr2t4W02YgREkpOuoFLf8A\n",
      "Nearby Breakfast Place: FL Cafe\n",
      "Place ID: ChIJb26IMpC02YgRUYzD8m8UaW4\n",
      "{'id': 'ChIJb26IMpC02YgRUYzD8m8UaW4', 'formattedAddress': '1360 Collins Ave, Miami Beach, FL 33139, USA', 'location': {'latitude': 25.785175600000002, 'longitude': -80.1309744}, 'rating': 4.3, 'googleMapsUri': 'https://maps.google.com/?cid=7955912687773518929', 'websiteUri': 'https://www.flcafemiamibeach.com/', 'businessStatus': 'OPERATIONAL', 'priceLevel': 'PRICE_LEVEL_MODERATE', 'userRatingCount': 1409, 'displayName': {'text': 'FL Cafe', 'languageCode': 'en'}, 'primaryType': 'american_restaurant', 'editorialSummary': {'text': 'Contemporary bistro offering elevated American, French, Italian, and Latin-style dishes, plus a roomy patio.', 'languageCode': 'en'}, 'goodForChildren': True}\n",
      "Nearby Breakfast Place: Cafe Americano\n",
      "Place ID: ChIJc1v3bsG12YgRdZ0BHwmlkUU\n",
      "{'id': 'ChIJc1v3bsG12YgRdZ0BHwmlkUU', 'formattedAddress': '1144 Ocean Dr, Miami Beach, FL 33139, USA', 'location': {'latitude': 25.7825034, 'longitude': -80.130515}, 'rating': 4.8, 'googleMapsUri': 'https://maps.google.com/?cid=5012969318833560949', 'websiteUri': 'https://www.cafeamericano.com/ocean-drive/', 'businessStatus': 'OPERATIONAL', 'priceLevel': 'PRICE_LEVEL_MODERATE', 'userRatingCount': 4045, 'displayName': {'text': 'Cafe Americano', 'languageCode': 'en'}, 'primaryType': 'american_restaurant', 'editorialSummary': {'text': 'Cool, Latin-inflected all-day diner in Hotel Victor South Beach with cocktails and a lively patio.', 'languageCode': 'en'}, 'goodForChildren': True}\n",
      "Original Place ID: ChIJHSPojpy02YgRyKb7pE6DH-c\n",
      "Nearby Breakfast Place: Paradise Cafe\n",
      "Place ID: ChIJlxgakLSz2YgRCfvb8e9MN8k\n",
      "{'id': 'ChIJlxgakLSz2YgRCfvb8e9MN8k', 'formattedAddress': '4333 Collins Ave, Miami Beach, FL 33140, USA', 'location': {'latitude': 25.8151805, 'longitude': -80.12217919999999}, 'rating': 3.2, 'googleMapsUri': 'https://maps.google.com/?cid=14499142118781221641', 'businessStatus': 'OPERATIONAL', 'userRatingCount': 34, 'displayName': {'text': 'Paradise Cafe', 'languageCode': 'en'}, 'primaryType': 'restaurant', 'goodForChildren': True}\n",
      "Nearby Breakfast Place: The Tavern\n",
      "Place ID: ChIJ9X7aKWaz2YgR2SpQuFesw7k\n",
      "{'id': 'ChIJ9X7aKWaz2YgR2SpQuFesw7k', 'formattedAddress': '3720 Collins Ave Lobby, Miami Beach, FL 33140, USA', 'location': {'latitude': 25.810889000000003, 'longitude': -80.123506}, 'rating': 4, 'googleMapsUri': 'https://maps.google.com/?cid=13385732010229639897', 'websiteUri': 'https://hotelcroydonmiamibeach.com/thetavern/', 'businessStatus': 'OPERATIONAL', 'priceLevel': 'PRICE_LEVEL_MODERATE', 'userRatingCount': 4090, 'displayName': {'text': 'The Tavern', 'languageCode': 'en'}, 'primaryType': 'american_restaurant', 'editorialSummary': {'text': 'Design-savvy eatery offering American breakfast, lunch, and dinner staples with drinks.', 'languageCode': 'en'}, 'goodForChildren': True}\n",
      "Original Place ID: ChIJQRnDgPG02YgR3phRlM77m0U\n",
      "Nearby Breakfast Place: Cafe Americano\n",
      "Place ID: ChIJc1v3bsG12YgRdZ0BHwmlkUU\n",
      "{'id': 'ChIJc1v3bsG12YgRdZ0BHwmlkUU', 'formattedAddress': '1144 Ocean Dr, Miami Beach, FL 33139, USA', 'location': {'latitude': 25.7825034, 'longitude': -80.130515}, 'rating': 4.8, 'googleMapsUri': 'https://maps.google.com/?cid=5012969318833560949', 'websiteUri': 'https://www.cafeamericano.com/ocean-drive/', 'businessStatus': 'OPERATIONAL', 'priceLevel': 'PRICE_LEVEL_MODERATE', 'userRatingCount': 4045, 'displayName': {'text': 'Cafe Americano', 'languageCode': 'en'}, 'primaryType': 'american_restaurant', 'editorialSummary': {'text': 'Cool, Latin-inflected all-day diner in Hotel Victor South Beach with cocktails and a lively patio.', 'languageCode': 'en'}, 'goodForChildren': True}\n",
      "Nearby Breakfast Place: 11th Street Diner\n",
      "Place ID: ChIJjcZn-4202YgRSovwaAp5pPE\n",
      "{'id': 'ChIJjcZn-4202YgRSovwaAp5pPE', 'formattedAddress': '1065 Washington Ave, Miami Beach, FL 33139, USA', 'location': {'latitude': 25.7817989, 'longitude': -80.13225969999999}, 'rating': 4.5, 'googleMapsUri': 'https://maps.google.com/?cid=17412175144938408778', 'websiteUri': 'https://eleventhstreetdiner.com/?utm_source=gmb&utm_medium=organic&utm_campaign=google_my_business_visitors', 'businessStatus': 'OPERATIONAL', 'priceLevel': 'PRICE_LEVEL_MODERATE', 'userRatingCount': 6701, 'displayName': {'text': '11th Street Diner', 'languageCode': 'en'}, 'primaryType': 'restaurant', 'editorialSummary': {'text': 'Retro diner housed in a railroad-style car with all-day breakfast & American eats, plus cocktails.', 'languageCode': 'en'}, 'goodForChildren': True}\n",
      "Original Place ID: ChIJX_TbJvK02YgROtsh5jIAT3E\n",
      "Nearby Breakfast Place: FL Cafe\n",
      "Place ID: ChIJb26IMpC02YgRUYzD8m8UaW4\n",
      "{'id': 'ChIJb26IMpC02YgRUYzD8m8UaW4', 'formattedAddress': '1360 Collins Ave, Miami Beach, FL 33139, USA', 'location': {'latitude': 25.785175600000002, 'longitude': -80.1309744}, 'rating': 4.3, 'googleMapsUri': 'https://maps.google.com/?cid=7955912687773518929', 'websiteUri': 'https://www.flcafemiamibeach.com/', 'businessStatus': 'OPERATIONAL', 'priceLevel': 'PRICE_LEVEL_MODERATE', 'userRatingCount': 1409, 'displayName': {'text': 'FL Cafe', 'languageCode': 'en'}, 'primaryType': 'american_restaurant', 'editorialSummary': {'text': 'Contemporary bistro offering elevated American, French, Italian, and Latin-style dishes, plus a roomy patio.', 'languageCode': 'en'}, 'goodForChildren': True}\n",
      "Nearby Breakfast Place: Cafe Americano\n",
      "Place ID: ChIJc1v3bsG12YgRdZ0BHwmlkUU\n",
      "{'id': 'ChIJc1v3bsG12YgRdZ0BHwmlkUU', 'formattedAddress': '1144 Ocean Dr, Miami Beach, FL 33139, USA', 'location': {'latitude': 25.7825034, 'longitude': -80.130515}, 'rating': 4.8, 'googleMapsUri': 'https://maps.google.com/?cid=5012969318833560949', 'websiteUri': 'https://www.cafeamericano.com/ocean-drive/', 'businessStatus': 'OPERATIONAL', 'priceLevel': 'PRICE_LEVEL_MODERATE', 'userRatingCount': 4045, 'displayName': {'text': 'Cafe Americano', 'languageCode': 'en'}, 'primaryType': 'american_restaurant', 'editorialSummary': {'text': 'Cool, Latin-inflected all-day diner in Hotel Victor South Beach with cocktails and a lively patio.', 'languageCode': 'en'}, 'goodForChildren': True}\n"
     ]
    },
    {
     "ename": "KeyError",
     "evalue": "'result'",
     "output_type": "error",
     "traceback": [
      "\u001b[0;31m---------------------------------------------------------------------------\u001b[0m",
      "\u001b[0;31mKeyError\u001b[0m                                  Traceback (most recent call last)",
      "\u001b[0;32m<ipython-input-50-fd8472fc5bbd>\u001b[0m in \u001b[0;36m<cell line: 19>\u001b[0;34m()\u001b[0m\n\u001b[1;32m     21\u001b[0m     \u001b[0mresponse\u001b[0m \u001b[0;34m=\u001b[0m \u001b[0mrequests\u001b[0m\u001b[0;34m.\u001b[0m\u001b[0mget\u001b[0m\u001b[0;34m(\u001b[0m\u001b[0;34mf'https://maps.googleapis.com/maps/api/place/details/json?place_id={place_id}&fields=geometry&key={api_key}'\u001b[0m\u001b[0;34m)\u001b[0m\u001b[0;34m\u001b[0m\u001b[0;34m\u001b[0m\u001b[0m\n\u001b[1;32m     22\u001b[0m     \u001b[0;32mif\u001b[0m \u001b[0mresponse\u001b[0m\u001b[0;34m.\u001b[0m\u001b[0mstatus_code\u001b[0m \u001b[0;34m==\u001b[0m \u001b[0;36m200\u001b[0m\u001b[0;34m:\u001b[0m\u001b[0;34m\u001b[0m\u001b[0;34m\u001b[0m\u001b[0m\n\u001b[0;32m---> 23\u001b[0;31m         \u001b[0mlocation\u001b[0m \u001b[0;34m=\u001b[0m \u001b[0mresponse\u001b[0m\u001b[0;34m.\u001b[0m\u001b[0mjson\u001b[0m\u001b[0;34m(\u001b[0m\u001b[0;34m)\u001b[0m\u001b[0;34m[\u001b[0m\u001b[0;34m'result'\u001b[0m\u001b[0;34m]\u001b[0m\u001b[0;34m[\u001b[0m\u001b[0;34m'geometry'\u001b[0m\u001b[0;34m]\u001b[0m\u001b[0;34m[\u001b[0m\u001b[0;34m'location'\u001b[0m\u001b[0;34m]\u001b[0m\u001b[0;34m\u001b[0m\u001b[0;34m\u001b[0m\u001b[0m\n\u001b[0m\u001b[1;32m     24\u001b[0m         \u001b[0mnearby_places\u001b[0m \u001b[0;34m=\u001b[0m \u001b[0mfetch_nearby_places\u001b[0m\u001b[0;34m(\u001b[0m\u001b[0mlocation\u001b[0m\u001b[0;34m,\u001b[0m \u001b[0mapi_key\u001b[0m\u001b[0;34m)\u001b[0m\u001b[0;34m\u001b[0m\u001b[0;34m\u001b[0m\u001b[0m\n\u001b[1;32m     25\u001b[0m         \u001b[0;32mif\u001b[0m \u001b[0mnearby_places\u001b[0m\u001b[0;34m:\u001b[0m\u001b[0;34m\u001b[0m\u001b[0;34m\u001b[0m\u001b[0m\n",
      "\u001b[0;31mKeyError\u001b[0m: 'result'"
     ]
    }
   ],
   "source": [
    "import requests\n",
    "import pandas as pd\n",
    "\n",
    "# Google Places API key\n",
    "api_key = GOOGLE_API_KEY\n",
    "\n",
    "# URL template for the nearby places API\n",
    "url_template = \"https://maps.googleapis.com/maps/api/place/nearbysearch/json?location={},{}&radius=1500&type=restaurant&keyword=breakfast&key={}\"\n",
    "\n",
    "\n",
    "# Function to fetch nearby places\n",
    "def fetch_nearby_places(location, api_key):\n",
    "    url = url_template.format(location[\"lat\"], location[\"lng\"], api_key)\n",
    "    response = requests.get(url)\n",
    "    if response.status_code == 200:\n",
    "        return response.json()[\"results\"]\n",
    "    return None\n",
    "\n",
    "\n",
    "# Iterate over each row in the DataFrame and fetch nearby breakfast places\n",
    "for index, row in df.iterrows():\n",
    "    place_id = row[\"Place ID\"]  # Assuming corrected column name\n",
    "    response = requests.get(\n",
    "        f\"https://maps.googleapis.com/maps/api/place/details/json?place_id={place_id}&fields=geometry&key={api_key}\"\n",
    "    )\n",
    "    if response.status_code == 200:\n",
    "        location = response.json()[\"result\"][\"geometry\"][\"location\"]\n",
    "        nearby_places = fetch_nearby_places(location, api_key)\n",
    "        if nearby_places:\n",
    "            # Print the original Place ID and the nearby breakfast places\n",
    "            print(f\"Original Place ID: {place_id}\")\n",
    "            for place in nearby_places[:2]:\n",
    "                print(f\"Nearby Place: {place['name']}\")\n",
    "                print(f\"Place ID: {place['place_id']}\")\n",
    "                # Fetch and print details of the nearby breakfast place\n",
    "                url = f'https://places.googleapis.com/v1/places/{place[\"place_id\"]}/?fields=id,displayName,location,primaryType,editorialSummary,websiteUri,googleMapsUri,formattedAddress,businessStatus,userRatingCount,priceLevel,rating,goodForChildren&key={api_key}'\n",
    "                response = requests.get(url)\n",
    "                if response.status_code == 200:\n",
    "                    print(response.json())\n",
    "        else:\n",
    "            print(f\"No nearby found for Place ID: {place_id}\")\n",
    "    else:\n",
    "        print(f\"Failed to fetch geometry for Place ID: {place_id}\")"
   ]
  }
 ],
 "metadata": {
  "colab": {
   "authorship_tag": "ABX9TyMA03IFWmqQKkWDwPiQuD4a",
   "provenance": [
    {
     "file_id": "1ew1f_XkMbNKy3rsJ9WuRr3vfsWskEU54",
     "timestamp": 1712353675429
    }
   ]
  },
  "kernelspec": {
   "display_name": "Python 3",
   "name": "python3"
  },
  "language_info": {
   "name": "python"
  }
 },
 "nbformat": 4,
 "nbformat_minor": 0
}
