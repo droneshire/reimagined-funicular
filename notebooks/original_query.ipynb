{
 "cells": [
  {
   "cell_type": "code",
   "execution_count": null,
   "metadata": {},
   "outputs": [],
   "source": [
    "#!pip install langchain\n",
    "#!pip install langchain_openai\n",
    "#!pip install langchain_community\n",
    "#!pip install langchain_core\n",
    "\n",
    "from langchain.output_parsers import ResponseSchema, StructuredOutputParser\n",
    "from langchain_core.pydantic_v1 import BaseModel, Field, validator\n",
    "from langchain.output_parsers import PydanticOutputParser\n",
    "from langchain.prompts import PromptTemplate\n",
    "from langchain_openai import ChatOpenAI\n",
    "from typing import List, TypedDict, Dict\n",
    "\n",
    "\n",
    "from langchain_community.utils.openai_functions import (\n",
    "    convert_pydantic_to_openai_function,\n",
    ")\n",
    "\n",
    "from langchain.output_parsers.openai_functions import JsonOutputFunctionsParser\n",
    "\n",
    "\n",
    "import pandas as pd"
   ]
  },
  {
   "cell_type": "code",
   "execution_count": null,
   "metadata": {},
   "outputs": [],
   "source": [
    "class Itinerary(BaseModel):\n",
    "    day: List[str] = Field(\n",
    "        description=\"a list that indicates the day of the corresponding activity\"\n",
    "    )\n",
    "    activity_type: List[str] = Field(\n",
    "        description=\"a list of the activities type of the itinerary like breakfast, dinner etc\"\n",
    "    )\n",
    "    location: List[str] = Field(\n",
    "        description=\"a list of the location that existis in google places of the corresponding activity type\"\n",
    "    )\n",
    "    description: List[str] = Field(\n",
    "        description=\"a brief description of the activity. The description must be 2-3 word phrases\"\n",
    "    )\n",
    "\n",
    "\n",
    "# Set up a parser + inject instructions into the prompt template.\n",
    "# parser = PydanticOutputParser(pydantic_object=Itinerary)\n",
    "\n",
    "openai_functions = [convert_pydantic_to_openai_function(Itinerary)]\n",
    "\n",
    "parser = JsonOutputFunctionsParser()"
   ]
  },
  {
   "cell_type": "code",
   "execution_count": null,
   "metadata": {},
   "outputs": [],
   "source": [
    "openai_functions"
   ]
  },
  {
   "cell_type": "code",
   "execution_count": null,
   "metadata": {},
   "outputs": [],
   "source": [
    "prompt = PromptTemplate(\n",
    "    template=\"\"\"Given the user's input below:\n",
    "\n",
    "    Location: {location}\n",
    "    Number of People: {n}\n",
    "    Date: {date}\n",
    "    Duration (Days): {duration}\n",
    "    Tell Us About Your Group: {group}\n",
    "    Briefly describe the trip you envision including the groups interests in activities, food etc.: {description}\n",
    "\n",
    "    Create an itinerary providing the activities for breakfast, morning activity, lunch, afternoon activity, dinner and evening activity, the location which must exist in google places and a brief description of the activity or the place\n",
    "\n",
    "    Make sure to include all the itinerary days\n",
    "\n",
    "    \"\"\",\n",
    "    input_variables=[\"location\", \"n\", \"date\", \"duration\", \"group\", \"description\"],\n",
    ")"
   ]
  },
  {
   "cell_type": "code",
   "execution_count": null,
   "metadata": {},
   "outputs": [],
   "source": [
    "#!pip install openai\n",
    "\n",
    "import os\n",
    "import openai\n",
    "from google.colab import userdata\n",
    "\n",
    "# Retrieve the OpenAI API key from Colab secrets\n",
    "openai_key = userdata.get(\"Openai\")\n",
    "\n",
    "if openai_key:\n",
    "    os.environ[\"OPENAI_API_KEY\"] = openai_key\n",
    "else:\n",
    "    raise ValueError(\"Openai API key not found. Please set the 'Openai' secret in Colab.\")\n",
    "\n",
    "# Select GPT model\n",
    "# model = ChatOpenAI(temperature=0, model = 'gpt-4-turbo-preview')\n",
    "# model = ChatOpenAI(temperature=0, model = 'gpt-3.5-turbo')\n",
    "model = ChatOpenAI(temperature=0, model=\"gpt-3.5-turbo-0125\")\n",
    "# model = ChatOpenAI(temperature=0, model='gpt-4')\n",
    "\n",
    "# Set up the processing chain\n",
    "chain = prompt | model.bind(functions=openai_functions) | parser"
   ]
  },
  {
   "cell_type": "code",
   "execution_count": null,
   "metadata": {},
   "outputs": [],
   "source": [
    "eg1 = {\n",
    "    \"location\": \"South Beach Miami, FL\",\n",
    "    \"n\": \"6\",\n",
    "    \"date\": \"November 2026\",\n",
    "    \"duration\": \"3\",\n",
    "    \"group\": \"bachelorette party\",\n",
    "    \"description\": \"boutique hotel with onsite spa, beach clubs with DJs during the day, and high end nightclubs. List at least six restaurant options for dinner That include at least one nice steakhouse and one nice sushi restaurant\",\n",
    "}"
   ]
  },
  {
   "cell_type": "code",
   "execution_count": null,
   "metadata": {},
   "outputs": [],
   "source": [
    "output = chain.invoke(\n",
    "    {\n",
    "        \"location\": eg1[\"location\"],\n",
    "        \"n\": eg1[\"n\"],\n",
    "        \"date\": eg1[\"date\"],\n",
    "        \"duration\": eg1[\"duration\"],\n",
    "        \"group\": eg1[\"group\"],\n",
    "        \"description\": eg1[\"description\"],\n",
    "    }\n",
    ")\n",
    "\n",
    "# return the data frame\n",
    "\n",
    "df = pd.DataFrame(output)\n",
    "\n",
    "df"
   ]
  },
  {
   "cell_type": "code",
   "execution_count": null,
   "metadata": {},
   "outputs": [],
   "source": [
    "def calculate_tokens(data):\n",
    "    # Calculate input tokens\n",
    "    input_tokens = sum(len(str(value).split()) for value in data.values())\n",
    "\n",
    "    # Calculate output tokens\n",
    "    output_tokens = sum(len(str(value).split()) for value in output.values())\n",
    "\n",
    "    # Calculate total tokens\n",
    "    total_tokens = input_tokens + output_tokens\n",
    "\n",
    "    return input_tokens, output_tokens, total_tokens\n",
    "\n",
    "\n",
    "# Example usage\n",
    "input_data = eg1\n",
    "\n",
    "input_tokens, output_tokens, total_tokens = calculate_tokens(input_data)\n",
    "print(f\"Input Tokens: {input_tokens}\")\n",
    "print(f\"Output Tokens: {output_tokens}\")\n",
    "print(f\"Total Tokens: {total_tokens}\")"
   ]
  }
 ],
 "metadata": {
  "colab": {
   "authorship_tag": "ABX9TyNSYlBRtZgT7PQE/K3TVchS",
   "provenance": [
    {
     "file_id": "1VI1etcG0k6sfsjWAu1hjqi-OMEMmbAio",
     "timestamp": 1712511776971
    },
    {
     "file_id": "1_0F0h2WeGZYT8hkeI8_SDMQCzR5wlnQq",
     "timestamp": 1712510032779
    }
   ]
  },
  "kernelspec": {
   "display_name": "Python 3 (ipykernel)",
   "language": "python",
   "name": "python3"
  },
  "language_info": {
   "codemirror_mode": {
    "name": "ipython",
    "version": 3
   },
   "file_extension": ".py",
   "mimetype": "text/x-python",
   "name": "python",
   "nbconvert_exporter": "python",
   "pygments_lexer": "ipython3"
  }
 },
 "nbformat": 4,
 "nbformat_minor": 1
}
